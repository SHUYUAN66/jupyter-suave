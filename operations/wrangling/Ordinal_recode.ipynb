{
 "cells": [
  {
   "cell_type": "markdown",
   "metadata": {},
   "source": [
    "<h1><span style=\"color:red\">Re-coding ordinal variables</span></h1>\n",
    "\n",
    "Using this notbook, you can select ordinal variables and prepend numbers to values. You will have an option to process a survey file received from the current SuAVE application, or import a local CSV file. Then the notebook will let you create a new SuAVE survey with the updated survey file. \n",
    "\n",
    "Author: Iakov Vasilyev\n"
   ]
  },
  {
   "cell_type": "markdown",
   "metadata": {},
   "source": [
    "## 1. Retrieve survey parameters from the URL"
   ]
  },
  {
   "cell_type": "code",
   "execution_count": null,
   "metadata": {},
   "outputs": [],
   "source": [
    "%%javascript\n",
    "function getQueryStringValue (key)\n",
    "{  \n",
    "    return unescape(window.location.search.replace(new RegExp(\"^(?:.*[&\\\\?]\" + escape(key).replace(/[\\.\\+\\*]/g, \"\\\\$&\") + \"(?:\\\\=([^&]*))?)?.*$\", \"i\"), \"$1\"));\n",
    "}\n",
    "IPython.notebook.kernel.execute(\"survey_url='\".concat(getQueryStringValue(\"surveyurl\")).concat(\"'\"));\n",
    "IPython.notebook.kernel.execute(\"views='\".concat(getQueryStringValue(\"views\")).concat(\"'\"));\n",
    "IPython.notebook.kernel.execute(\"view='\".concat(getQueryStringValue(\"view\")).concat(\"'\"));\n",
    "IPython.notebook.kernel.execute(\"user='\".concat(getQueryStringValue(\"user\")).concat(\"'\"));\n",
    "IPython.notebook.kernel.execute(\"csv_file='\".concat(getQueryStringValue(\"csv\")).concat(\"'\")); \n",
    "IPython.notebook.kernel.execute(\"dzc_file='\".concat(getQueryStringValue(\"dzc\")).concat(\"'\")); \n",
    "IPython.notebook.kernel.execute(\"params='\".concat(getQueryStringValue(\"params\")).concat(\"'\")); \n",
    "IPython.notebook.kernel.execute(\"active_object='\".concat(getQueryStringValue(\"activeobject\")).concat(\"'\")); \n",
    "IPython.notebook.kernel.execute(\"full_notebook_url='\" + window.location + \"'\"); "
   ]
  },
  {
   "cell_type": "markdown",
   "metadata": {},
   "source": [
    "## 2. Import libraries"
   ]
  },
  {
   "cell_type": "code",
   "execution_count": null,
   "metadata": {
    "ExecuteTime": {
     "end_time": "2016-09-06T17:02:37.986507",
     "start_time": "2016-09-06T17:02:37.525080"
    },
    "run_control": {
     "frozen": false,
     "read_only": false
    }
   },
   "outputs": [],
   "source": [
    "# common imports\n",
    "from __future__ import print_function\n",
    "from ipywidgets import interact, interactive, fixed, interact_manual\n",
    "import ipywidgets as widgets\n",
    "from IPython.display import Markdown, display\n",
    "\n",
    "import pandas as pd\n",
    "pd.set_option('display.max_colwidth', 0)\n",
    "    \n",
    "import numpy as np\n",
    "import panel as pn\n",
    "\n",
    "pn.extension()\n",
    "def printmd(string):\n",
    "    display(Markdown(string))\n",
    "\n",
    "absolutePath = \"../../temp_csvs/\"\n",
    "\n",
    "# local imports\n",
    "import sys\n",
    "sys.path.insert(1, '../../helpers')\n",
    "import panel_libs as panellibs\n",
    "import suave_integration as suaveint\n",
    "\n",
    "url_partitioned = full_notebook_url.partition('/operations')\n",
    "base_url = url_partitioned[0];\n",
    "\n",
    "import re"
   ]
  },
  {
   "cell_type": "markdown",
   "metadata": {},
   "source": [
    "## 3. Select a survey file from SuAVE or import a local CSV file"
   ]
  },
  {
   "cell_type": "code",
   "execution_count": null,
   "metadata": {},
   "outputs": [],
   "source": [
    "data_select = pn.widgets.RadioBoxGroup(name='Select notebook', options=['Load survey file from SuAVE', \n",
    "                                                                        'Import a local CSV file'], \n",
    "                                       inline=False)\n",
    "data_select"
   ]
  },
  {
   "cell_type": "code",
   "execution_count": null,
   "metadata": {},
   "outputs": [],
   "source": [
    "data_input = pn.widgets.FileInput()\n",
    "    \n",
    "def check_selection():\n",
    "    if data_select.value == 'Load survey file from SuAVE':\n",
    "        global fname\n",
    "        fname = absolutePath + csv_file\n",
    "        printmd(\"<b><span style='color:red'>SuAVE survey will be loaded. Continue to step 4.</span></b>\")\n",
    "\n",
    "    else:\n",
    "        message = pn.pane.HTML(\"<b><span style='color:red'>Upload data and continue to step 4.</span></b>\")\n",
    "        return pn.Column(message, data_input)\n",
    "    \n",
    "check_selection()"
   ]
  },
  {
   "cell_type": "markdown",
   "metadata": {},
   "source": [
    "## 4. Visualize the data and assign codes for values of ordinal variables"
   ]
  },
  {
   "cell_type": "code",
   "execution_count": null,
   "metadata": {
    "scrolled": false
   },
   "outputs": [],
   "source": [
    "if not pd.isnull(data_input.filename):\n",
    "    fname = absolutePath + data_input.filename\n",
    "    data_input.save(fname)\n",
    "\n",
    "# df = extract_data(fname).fillna('')\n",
    "df = panellibs.extract_data(fname)\n",
    "\n",
    "panellibs.slider(df)"
   ]
  },
  {
   "cell_type": "code",
   "execution_count": null,
   "metadata": {},
   "outputs": [],
   "source": [
    "# defining the panel\n",
    "            \n",
    "likcols = df.columns.tolist()\n",
    "# remove any variable names with qualifiers\n",
    "likcols = [x for x in likcols if '#' not in x]\n",
    "# remove variables that have less than 3 or more than 10 unique values\n",
    "likcols = [x for x in likcols if df[x].nunique() > 2 and df[x].nunique() < 11]\n",
    "    \n",
    "if 'updated_df' in globals():\n",
    "    global updated_df\n",
    "    updated_df = df.copy()\n",
    "        \n",
    "counter = 0\n",
    "run = False\n",
    "var_values = []\n",
    "num_inputs = []\n",
    "input_rows = []\n",
    "\n",
    "# Column Selector widget\n",
    "col_select = pn.widgets.IntSlider(name='Navigate Columns', end=len(df.columns))\n",
    "    \n",
    "# Variable Selector widget\n",
    "var_select = pn.widgets.Select(options=likcols, value=\"Select Column\", width=250)\n",
    "    \n",
    "# Update Data Frame widget\n",
    "updater = pn.widgets.Toggle(name='Apply Codes', button_type='primary', width = 250)\n",
    "    \n",
    "# Dictionary to keep track of reserved column names use\n",
    "violated = {}\n",
    "remap_text = pn.pane.Markdown('#### Value re-coding: ', width=930)\n",
    "@pn.depends(updater, col_select)\n",
    "def update_trigger(update, col=0):\n",
    "    \"\"\"\n",
    "    update_trigger updates the existing data frame\n",
    "    when there are changes to the update widget or\n",
    "    the column selector widget.\n",
    "    \n",
    "    :param update: bool indicated click on update widget\n",
    "    :param col: integer representing column to display\n",
    "    :returns: updated data frame\n",
    "    \"\"\"\n",
    "    \n",
    "    # Please note: Any function that is dependent on a widgets value \n",
    "    # (@pn.depends), like this one, will run every time one of the widget's\n",
    "    # value is changed. However, this is not limited to a user changing the\n",
    "    # widgets, but also changed programmatically as well. This is done a\n",
    "    # few times across this function which leads to redundant calls.\n",
    "    # These redundant calls can cause problems as they can reassign variables.\n",
    "    # Hence, you may see some extra variables to detect these redundant calls.\n",
    "\n",
    "    upd = updater.value\n",
    "    updater.value = False\n",
    "\n",
    "    # Checks for previous runs of this function\n",
    "    if 'updated_df' not in globals():\n",
    "        global updated_df\n",
    "        updated_df = df.copy()\n",
    "       \n",
    "    if var_select.value != \"Select Column\":\n",
    "        selected = var_select.value\n",
    "        uniks = [i for i in updated_df[selected].unique() if not pd.isna(i)]\n",
    "        mapping = {}\n",
    "        \n",
    "        if re.match(r\"\\d+:\",uniks[0]):\n",
    "            for i in range(len(uniks)):\n",
    "                if (str(num_inputs[i].value) == ''):\n",
    "                    mapping[uniks[i]] = uniks[i]\n",
    "                else:\n",
    "                    mapping[uniks[i]] = str(num_inputs[i].value) + \": \" + uniks[i][uniks[i].find(\":\")+2:]\n",
    "        else:\n",
    "            for i in range(len(var_values)):\n",
    "                if (str(num_inputs[i].value) == ''):\n",
    "                    mapping[var_values[i].value] = var_values[i].value\n",
    "                else:\n",
    "                    mapping[var_values[i].value] = str(num_inputs[i].value) + \": \" + var_values[i].value\n",
    "                    \n",
    "\n",
    "        updated = updated_df[selected].apply(lambda var: var if pd.isna(var) else mapping[var])\n",
    "\n",
    "        updated_df[selected] = updated\n",
    "        if upd == False:\n",
    "            remap_text.object = remap_text.object + '\\n\\n' + \"## \" + selected\n",
    "            for i in list(mapping.keys()):\n",
    "                new_mapping = i + \": \" + mapping[i][:mapping[i].find(\":\")]\n",
    "                remap_text.object = remap_text.object + '\\n' + new_mapping\n",
    "        \n",
    "    return updated_df.iloc[:10, col:col+10]\n",
    "\n",
    "@pn.depends(var_select.param.value)\n",
    "def variable_rename(var):\n",
    "    \"\"\"\n",
    "    variable_rename renames variables in a data frame\n",
    "    when the user does so through a text input widget.\n",
    "    \n",
    "    :param var: string, variable to be renamed\n",
    "    :param name: string, new variable name\n",
    "    :returns: variable rename widget\n",
    "    \"\"\"\n",
    "    #print(var_select.value)\n",
    "    \n",
    "    if var_select.value != \"Select Column\":\n",
    "        inituniques = [i for i in updated_df[var_select.value].unique() if not pd.isna(i)]\n",
    "        var_values.clear()\n",
    "        num_inputs.clear()\n",
    "        for i in range(len(inituniques)):\n",
    "            var_values.append(pn.widgets.StaticText(value=str(inituniques[i]), margin=(7,0,5,10)))\n",
    "            num_inputs.append(pn.widgets.TextInput(value=str(i+1), width=50, margin=(0,23,0,20)))\n",
    "        #remap_text.object = remap_text.object + '\\n' + str(var_values)\n",
    "        \n",
    "        var_col = pn.Column(var_values[0])\n",
    "        num_col = pn.Column(num_inputs[0])\n",
    "        input_rows = [pn.Row(var_values[i], num_inputs[i]) for i in range(len(var_values))]\n",
    "        for i in range(1,len(inituniques)):\n",
    "            var_col.append(var_values[i])    \n",
    "            num_col.append(num_inputs[i])\n",
    "        \n",
    "        input_row = pn.Row(var_col, num_col, margin=(0,0,70,70))\n",
    "        return input_row\n",
    "    else:\n",
    "        return pn.widgets.StaticText(value=\"Select Column\")"
   ]
  },
  {
   "cell_type": "code",
   "execution_count": null,
   "metadata": {},
   "outputs": [],
   "source": [
    "    lefted = pn.Column(var_select, updater, css_classes=['widget-box'])\n",
    "    full_edit = pn.Row(lefted, variable_rename, margin=(20,50,0,0),css_classes=['widget-box'])\n",
    "    full_widget = pn.Column(col_select, pn.panel(update_trigger, width=930), full_edit, remap_text)\n",
    "    full_widget"
   ]
  },
  {
   "cell_type": "markdown",
   "metadata": {},
   "source": [
    "## 5. Generate a new survey and open it in SuAVE"
   ]
  },
  {
   "cell_type": "code",
   "execution_count": null,
   "metadata": {},
   "outputs": [],
   "source": [
    "if data_select.value == 'Import a local CSV file':\n",
    "    csv_file = data_input.filename\n",
    "    dzc_file = ''\n",
    "    views = '1110001'\n",
    "    view='grid'\n",
    "\n",
    "new_file = suaveint.save_csv_file(df, absolutePath, csv_file)"
   ]
  },
  {
   "cell_type": "code",
   "execution_count": null,
   "metadata": {},
   "outputs": [],
   "source": [
    "#Input survey name\n",
    "\n",
    "from IPython.display import display\n",
    "input_text = widgets.Text(placeholder='Enter Survey Name...')\n",
    "output_text = widgets.Text()\n",
    "\n",
    "def bind_input_to_output(sender):\n",
    "    output_text.value = input_text.value\n",
    "\n",
    "# Tell the text input widget to call bind_input_to_output() on submit\n",
    "input_text.on_submit(bind_input_to_output)\n",
    "\n",
    "printmd(\"<b><span style='color:red'>Input survey name here, press Enter, and then run the next cell:</span></b>\")\n",
    "# Display input text box widget for input\n",
    "display(input_text)\n",
    "\n",
    "display(output_text)"
   ]
  },
  {
   "cell_type": "code",
   "execution_count": null,
   "metadata": {},
   "outputs": [],
   "source": [
    "#Print survey name\n",
    "survey_name = output_text.value\n",
    "printmd(\"<b><span style='color:red'>Survey Name is: </span></b>\" + survey_name)"
   ]
  },
  {
   "cell_type": "code",
   "execution_count": null,
   "metadata": {},
   "outputs": [],
   "source": [
    "suaveint.create_survey(survey_url,new_file, survey_name, dzc_file, user, csv_file, view, views)"
   ]
  }
 ],
 "metadata": {
  "kernelspec": {
   "display_name": "Python 3",
   "language": "python",
   "name": "python3"
  },
  "language_info": {
   "codemirror_mode": {
    "name": "ipython",
    "version": 3
   },
   "file_extension": ".py",
   "mimetype": "text/x-python",
   "name": "python",
   "nbconvert_exporter": "python",
   "pygments_lexer": "ipython3",
   "version": "3.7.7"
  },
  "nav_menu": {},
  "toc": {
   "navigate_menu": true,
   "number_sections": true,
   "sideBar": true,
   "threshold": 6,
   "toc_cell": false,
   "toc_section_display": "block",
   "toc_window_display": false
  }
 },
 "nbformat": 4,
 "nbformat_minor": 1
}
