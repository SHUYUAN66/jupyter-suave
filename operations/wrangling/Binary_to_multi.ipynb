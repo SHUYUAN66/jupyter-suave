{
 "cells": [
  {
   "cell_type": "markdown",
   "metadata": {},
   "source": [
    "<h1><span style=\"color:red\">Converting a series of binary variables to a single #multi variable</span></h1>\n",
    "\n",
    "Using this notbook, you can define groups of binary variables and organize each group into a multiple-response variables, possibly dropping the initial binary variables. You will have an option to process a survey file received from the current SuAVE application, or import a local CSV file. Then the notebook will let you create a new SuAVE survey with the updated survey file. \n",
    "\n"
   ]
  },
  {
   "cell_type": "markdown",
   "metadata": {},
   "source": [
    "## 1. Retrieve survey parameters from the URL"
   ]
  },
  {
   "cell_type": "code",
   "execution_count": null,
   "metadata": {},
   "outputs": [],
   "source": [
    "%%javascript\n",
    "function getQueryStringValue (key)\n",
    "{  \n",
    "    return unescape(window.location.search.replace(new RegExp(\"^(?:.*[&\\\\?]\" + escape(key).replace(/[\\.\\+\\*]/g, \"\\\\$&\") + \"(?:\\\\=([^&]*))?)?.*$\", \"i\"), \"$1\"));\n",
    "}\n",
    "IPython.notebook.kernel.execute(\"survey_url='\".concat(getQueryStringValue(\"surveyurl\")).concat(\"'\"));\n",
    "IPython.notebook.kernel.execute(\"views='\".concat(getQueryStringValue(\"views\")).concat(\"'\"));\n",
    "IPython.notebook.kernel.execute(\"view='\".concat(getQueryStringValue(\"view\")).concat(\"'\"));\n",
    "IPython.notebook.kernel.execute(\"user='\".concat(getQueryStringValue(\"user\")).concat(\"'\"));\n",
    "IPython.notebook.kernel.execute(\"csv_file='\".concat(getQueryStringValue(\"csv\")).concat(\"'\")); \n",
    "IPython.notebook.kernel.execute(\"dzc_file='\".concat(getQueryStringValue(\"dzc\")).concat(\"'\")); \n",
    "IPython.notebook.kernel.execute(\"params='\".concat(getQueryStringValue(\"params\")).concat(\"'\")); \n",
    "IPython.notebook.kernel.execute(\"active_object='\".concat(getQueryStringValue(\"activeobject\")).concat(\"'\")); \n",
    "IPython.notebook.kernel.execute(\"full_notebook_url='\" + window.location + \"'\"); "
   ]
  },
  {
   "cell_type": "markdown",
   "metadata": {},
   "source": [
    "## 2. Import libraries"
   ]
  },
  {
   "cell_type": "code",
   "execution_count": null,
   "metadata": {
    "ExecuteTime": {
     "end_time": "2016-09-06T17:02:37.986507",
     "start_time": "2016-09-06T17:02:37.525080"
    },
    "run_control": {
     "frozen": false,
     "read_only": false
    }
   },
   "outputs": [],
   "source": [
    "from __future__ import print_function\n",
    "import ipywidgets as widgets\n",
    "import pandas as pd\n",
    "from IPython.display import Markdown, display\n",
    "import pandas as pd\n",
    "import panel as pn\n",
    "\n",
    "pn.extension()\n",
    "\n",
    "def printmd(string):\n",
    "    display(Markdown(string))\n",
    "\n",
    "absolutePath = \"../../temp_csvs/\"\n",
    "url_partitioned = full_notebook_url.partition('/operations')\n",
    "base_url = url_partitioned[0];"
   ]
  },
  {
   "cell_type": "code",
   "execution_count": null,
   "metadata": {
    "ExecuteTime": {
     "end_time": "2016-09-06T17:06:11.666603",
     "start_time": "2016-09-06T17:06:11.652467"
    },
    "run_control": {
     "frozen": false,
     "read_only": false
    }
   },
   "outputs": [],
   "source": [
    "# this function organizes all values in a row into a #multi variable\n",
    "# the options are: \n",
    "# a) the binary variables have specific non-empty conditions specified in condition_values\n",
    "# b) the binary variables have a non-empty value that needs to be included; the other value (such as \"not selected\") is empty (NaN)\n",
    "\n",
    "def summarize_row(row, condition_values=[True], any_not_nan=False, separator='|'):\n",
    "    if any_not_nan:\n",
    "        matching_columns = [col_name for col_name, val in row.iteritems() if not pd.isnull(val)]\n",
    "    else:\n",
    "        matching_columns = [col_name for col_name, val in row.iteritems() if val in condition_values]\n",
    "    return separator.join(matching_columns)\n",
    "\n",
    "\n",
    "# this function calls summarize_row for a selected set of binary variables\n",
    "\n",
    "def unbinarize(df, columns, condition_values=[True], any_not_nan=False, separator='|'):\n",
    "    \"\"\"\n",
    "    for every row: concatenate values that match condition_value with [separator]\n",
    "    parameters:\n",
    "        * df: dataframe\n",
    "        * columns : the ones you want to unbinarize. \n",
    "        * condition_value: the value that these binary columns take when they are selected. e.g. True or 1\n",
    "        * separator: the separator you want to use in the resulting list column\n",
    "        * drop: remove columns before returning dataframe\n",
    "    returns new column (pandas series) and original dataframe, perhaps with columns removed\n",
    "    \"\"\"\n",
    "    return df[columns].apply(lambda row: summarize_row(row, condition_values, any_not_nan, separator), axis=1)\n",
    "\n",
    "# this function calls unbinarize for all defined mappings\n",
    "\n",
    "def unbinarize_mapping(df, map_columns, condition_values=[True], any_not_nan=False, separator='|'):\n",
    "#     print(map_columns)\n",
    "    for new_col, dummy_cols in map_columns.items():\n",
    "#         print(new_col + \", \" + str(dummy_cols) + \", \" + ' OR '.join(condition_values) + \", \" + separator)\n",
    "        df[new_col] = unbinarize(\n",
    "            df, dummy_cols, condition_values=condition_values, any_not_nan=any_not_nan, separator=separator\n",
    "        )\n",
    "    return df\n",
    "\n",
    "# this function deletes variables that have been integrated into #multi\n",
    "\n",
    "def delete_dummies(df, map_columns):\n",
    "    for new_col, dummy_cols in map_columns.items():\n",
    "        df = df.drop(dummy_cols, axis=1)\n",
    "    return df"
   ]
  },
  {
   "cell_type": "code",
   "execution_count": null,
   "metadata": {
    "ExecuteTime": {
     "end_time": "2016-09-06T17:05:17.902671",
     "start_time": "2016-09-06T17:05:17.642016"
    },
    "run_control": {
     "frozen": false,
     "read_only": false
    },
    "scrolled": false
   },
   "outputs": [],
   "source": [
    "def slider(data):\n",
    "    \"\"\"\n",
    "    slider creates an interactive display of a\n",
    "    data frame.\n",
    "    \n",
    "    :param df: data frame\n",
    "    :returns: interactive dataframe\n",
    "    \"\"\"\n",
    "    \n",
    "    ## Row Selector widget\n",
    "    row_selection = pn.widgets.IntSlider(name='Navigate Rows', width=350, \n",
    "                                         margin=(0,50,-15,0), end=len(df)-1)\n",
    "\n",
    "    # Column Selector widget\n",
    "    col_selection = pn.widgets.IntSlider(name='Navigate Columns', width=350, \n",
    "                                         margin=(0,0,5,0), end=len(df.columns))\n",
    "    \n",
    "    @pn.depends(row_selection.param.value, col_selection.param.value)\n",
    "    def navigate_data(row=0, col=0):\n",
    "        return data.iloc[row:row+5, col:col+10]\n",
    "    \n",
    "    sliders = pn.Row(row_selection, col_selection, margin=(0,0,0,10))\n",
    "    full_widget = pn.Column(sliders, navigate_data)\n",
    "    return full_widget\n",
    "\n",
    "def extract_data(path):\n",
    "    \"\"\"\n",
    "    extract_data reads files from various formats\n",
    "    \n",
    "    :param link: string representing path to file\n",
    "    :returns: data frame of file\n",
    "    \"\"\"\n",
    "\n",
    "    # Reading file at path\n",
    "    if path.endswith(('.txt', 'tsv')):\n",
    "        try:\n",
    "            data = pd.read_csv(path, sep='\\t', encoding=\"latin-1\")\n",
    "        except UnicodeDecodeError:\n",
    "            data = pd.read_csv(path, sep='\\t', encoding=\"ISO-8859-1\")\n",
    "    elif path.endswith('.csv'):\n",
    "        try:\n",
    "            data = pd.read_csv(path, encoding=\"latin-1\")\n",
    "        except UnicodeDecodeError:\n",
    "            data = pd.read_csv(path, encoding=\"ISO-8859-1\")\n",
    "    else:\n",
    "        return None\n",
    "    \n",
    "    return data"
   ]
  },
  {
   "cell_type": "markdown",
   "metadata": {},
   "source": [
    "## 3. Select a survey file from SuAVE or import a local CSV file"
   ]
  },
  {
   "cell_type": "code",
   "execution_count": null,
   "metadata": {},
   "outputs": [],
   "source": [
    "data_select = pn.widgets.RadioBoxGroup(name='Select notebook', options=['Load survey file from SuAVE', \n",
    "                                                                        'Import a local CSV file'], \n",
    "                                       inline=False)\n",
    "data_select"
   ]
  },
  {
   "cell_type": "code",
   "execution_count": null,
   "metadata": {},
   "outputs": [],
   "source": [
    "data_input = pn.widgets.FileInput()\n",
    "    \n",
    "def check_selection():\n",
    "    if data_select.value == 'Load survey file from SuAVE':\n",
    "        global fname\n",
    "        fname = absolutePath + csv_file\n",
    "        printmd(\"<b><span style='color:red'>SuAVE survey will be loaded. Continue to step 4.</span></b>\")\n",
    "\n",
    "    else:\n",
    "        message = pn.pane.HTML(\"<b><span style='color:red'>Upload data and continue to step 4.</span></b>\")\n",
    "        return pn.Column(message, data_input)\n",
    "    \n",
    "check_selection()"
   ]
  },
  {
   "cell_type": "markdown",
   "metadata": {},
   "source": [
    "## 4. Visualize the data and select binary variables"
   ]
  },
  {
   "cell_type": "code",
   "execution_count": null,
   "metadata": {},
   "outputs": [],
   "source": [
    "if not pd.isnull(data_input.filename):\n",
    "    fname = absolutePath + data_input.filename\n",
    "    data_input.save(fname)\n",
    "\n",
    "# df = extract_data(fname).fillna('')\n",
    "df = extract_data(fname)\n",
    "\n",
    "slider(df)"
   ]
  },
  {
   "cell_type": "code",
   "execution_count": null,
   "metadata": {},
   "outputs": [],
   "source": [
    "# Left panel\n",
    "left_text = pn.Row(\"####Select Binary Variables\", margin=(0,0,-15,270))\n",
    "binary_selector = pn.widgets.CrossSelector(options=list(df.columns), width=630)\n",
    "left_panel = pn.Column(left_text, binary_selector, css_classes=['widget-box'], margin=(0,30,0,0))\n",
    "\n",
    "# Right panel\n",
    "condition_text = pn.Row(\"####Select Condition\", margin=(0,0,-20, 40))\n",
    "condition = pn.widgets.Select(width=200, margin=(11,10,10,10))\n",
    "condition_select = pn.Column(condition_text, condition, margin=(5,0,0,0))\n",
    "\n",
    "multi_text = pn.Row(\"####Specify #multi Name\", margin=(0,0,-20, 25))\n",
    "multi_name = pn.widgets.TextInput(placeholder='Enter Name', width=200, margin=(11,10,10,10))\n",
    "name_input = pn.Column(multi_text, multi_name, margin=(-5,0,0,0))\n",
    "right_panel = pn.Column(condition_select, name_input, css_classes=['widget-box'], width=225, height=150)\n",
    "\n",
    "apply_button = pn.widgets.Toggle(name='Create Mapping', margin=(30,0,10,10), width=200)\n",
    "\n",
    "# Remappings display\n",
    "remap_text = pn.pane.Markdown('#### Remappings ', width=950)\n",
    "\n",
    "remappings = {}\n",
    "condition_values = []\n",
    "@pn.depends(binary_selector.param.value, apply_button.param.value)\n",
    "def remap(b_var, apply):\n",
    "    apply_button.value = False\n",
    "    \n",
    "    if (b_var != []):\n",
    "        \n",
    "        # Determines possible conditions based on variables selected\n",
    "        possible_conditions = pd.unique(df[b_var].values.ravel('K'))\n",
    "        condition.options = ['Not Empty'] + [value for value in possible_conditions if not pd.isnull(value)]\n",
    "        if (multi_name.value != '') and apply:\n",
    "            \n",
    "            # Creates mapping\n",
    "            new_multi = multi_name.value + '#multi'\n",
    "            remappings[new_multi] = b_var\n",
    "            condition_values.append(condition.value)\n",
    "            \n",
    "            # Refreshes selected binary values and name\n",
    "            binary_selector.value = []\n",
    "            multi_name.value = ''\n",
    "            \n",
    "            # Updates remapping display\n",
    "            new_mapping = '- **'+ str(new_multi) + '**' +' &rarr; '+ str(remappings[new_multi])\n",
    "            remap_text.object = remap_text.object + '\\n' + new_mapping\n",
    "            \n",
    "            return remap_text\n",
    "        \n",
    "    return remap_text\n",
    "\n",
    "# Display widgets\n",
    "widgets = pn.Row(left_panel, pn.Column(right_panel, apply_button))\n",
    "full_display = pn.Column(widgets, remap)\n",
    "full_display"
   ]
  },
  {
   "cell_type": "markdown",
   "metadata": {},
   "source": [
    "## 5a. Generate #multi from the defined groups of binary variables, and drop the binary variables (if specific values are selected)"
   ]
  },
  {
   "cell_type": "code",
   "execution_count": null,
   "metadata": {
    "scrolled": false
   },
   "outputs": [],
   "source": [
    "# an example call for the case a) described above.\n",
    "# remappings and condition_values are the two key inputs\n",
    "\n",
    "df_new = df.pipe(\n",
    "    unbinarize_mapping, remappings,condition_values=condition_values, separator='|'\\\n",
    ").pipe(delete_dummies, remappings)\n",
    "\n",
    "df_new.head(10)"
   ]
  },
  {
   "cell_type": "code",
   "execution_count": null,
   "metadata": {},
   "outputs": [],
   "source": [
    "slider(df_new)"
   ]
  },
  {
   "cell_type": "markdown",
   "metadata": {},
   "source": [
    "## 5b. Generate #multi from the defined groups of binary variables, and drop the binary variables (using any non-NaN values)"
   ]
  },
  {
   "cell_type": "code",
   "execution_count": null,
   "metadata": {
    "scrolled": false
   },
   "outputs": [],
   "source": [
    "# an example call for case b) described above.\n",
    "# remappings and any_not_nan=True are the two key inputs\n",
    "\n",
    "df_new2 = df.pipe(\n",
    "    unbinarize_mapping, remappings, any_not_nan=True, separator='|'\\\n",
    ").pipe(delete_dummies, remappings)\n",
    "\n",
    "df_new2.head(10)"
   ]
  },
  {
   "cell_type": "code",
   "execution_count": null,
   "metadata": {},
   "outputs": [],
   "source": [
    "slider(df_new2)"
   ]
  },
  {
   "cell_type": "code",
   "execution_count": null,
   "metadata": {
    "ExecuteTime": {
     "end_time": "2016-09-06T17:23:04.406276",
     "start_time": "2016-09-06T17:23:04.180149"
    },
    "run_control": {
     "frozen": false,
     "read_only": false
    }
   },
   "outputs": [],
   "source": [
    "# now write this back, or upload to SuAVE.\n",
    "\n",
    "# df_new.to_csv('test_multi.csv', index=None)\n",
    "# df = df_new.copy().fillna('')\n",
    "#  or\n",
    "df_new2.to_csv('test_2multi.csv', index=None)\n",
    "df = df_new2.copy().fillna('')\n"
   ]
  },
  {
   "cell_type": "markdown",
   "metadata": {},
   "source": [
    "## 6. Generate a new survey and open it in SuAVE"
   ]
  },
  {
   "cell_type": "code",
   "execution_count": null,
   "metadata": {},
   "outputs": [],
   "source": [
    "# new filename\n",
    "\n",
    "if data_select.value == 'Import a local CSV file':\n",
    "    csv_file = data_input.filename\n",
    "\n",
    "new_file = absolutePath + csv_file[:-4]+'_v1.csv'\n",
    "printmd(\"<b><span style='color:red'>A new temporary file will be created at: </span></b>\")\n",
    "print(new_file)\n",
    "df.to_csv(new_file, index=None)"
   ]
  },
  {
   "cell_type": "code",
   "execution_count": null,
   "metadata": {},
   "outputs": [],
   "source": [
    "#Input survey name\n",
    "\n",
    "from IPython.display import display\n",
    "input_text = widgets.Text()\n",
    "output_text = widgets.Text()\n",
    "\n",
    "def bind_input_to_output(sender):\n",
    "    output_text.value = input_text.value\n",
    "\n",
    "# Tell the text input widget to call bind_input_to_output() on submit\n",
    "input_text.on_submit(bind_input_to_output)\n",
    "\n",
    "printmd(\"<b><span style='color:red'>Input survey name here, press Enter, and then run the next cell:</span></b>\")\n",
    "# Display input text box widget for input\n",
    "display(input_text)\n",
    "\n",
    "display(output_text)"
   ]
  },
  {
   "cell_type": "code",
   "execution_count": null,
   "metadata": {},
   "outputs": [],
   "source": [
    "#Print survey name\n",
    "survey_name = output_text.value\n",
    "printmd(\"<b><span style='color:red'>Survey Name is: </span></b>\" + survey_name)"
   ]
  },
  {
   "cell_type": "code",
   "execution_count": null,
   "metadata": {},
   "outputs": [],
   "source": [
    "referer = survey_url.split(\"/main\")[0] +\"/\"\n",
    "upload_url = referer + \"uploadCSV\"\n",
    "new_survey_url_base = survey_url.split(user)[0]\n",
    "\n",
    "import requests\n",
    "import re\n",
    "csv = {\"file\": open(new_file, \"rb\")}\n",
    "\n",
    "if data_select.value == 'Import a local CSV file':\n",
    "    dzc_file = ''\n",
    "    views = '1110001'\n",
    "    view='grid'\n",
    "\n",
    "upload_data = {\n",
    "    'name': input_text.value,\n",
    "    'dzc': dzc_file,\n",
    "    'user':user\n",
    "}\n",
    "headers = {\n",
    "    'User-Agent': 'suave user agent',\n",
    "    'referer': referer\n",
    "}\n",
    "\n",
    "r = requests.post(upload_url, files=csv, data=upload_data, headers=headers)\n",
    "\n",
    "if r.status_code == 200:\n",
    "    printmd(\"<b><span style='color:red'>New survey created successfully</span></b>\")\n",
    "    regex = re.compile('[^0-9a-zA-Z_]')\n",
    "    s_url = survey_name\n",
    "    s_url =  regex.sub('_', s_url)\n",
    "\n",
    "    url = new_survey_url_base + user + \"_\" + s_url + \".csv\" + \"&views=\" + views + \"&view=\" + view\n",
    "    print(url)\n",
    "    printmd(\"<b><span style='color:red'>Click the URL to open the new survey</span></b>\")\n",
    "else:\n",
    "    printmd(\"<b><span style='color:red'>Error creating new survey. Check if a survey with this name already exists.</span></b>\")\n",
    "    printmd(\"<b><span style='color:red'>Reason: </span></b>\"+ str(r.status_code) + \" \" + r.reason)"
   ]
  }
 ],
 "metadata": {
  "kernelspec": {
   "display_name": "Python 3",
   "language": "python",
   "name": "python3"
  },
  "language_info": {
   "codemirror_mode": {
    "name": "ipython",
    "version": 3
   },
   "file_extension": ".py",
   "mimetype": "text/x-python",
   "name": "python",
   "nbconvert_exporter": "python",
   "pygments_lexer": "ipython3",
   "version": "3.6.3"
  },
  "nav_menu": {},
  "toc": {
   "navigate_menu": true,
   "number_sections": true,
   "sideBar": true,
   "threshold": 6,
   "toc_cell": false,
   "toc_section_display": "block",
   "toc_window_display": false
  }
 },
 "nbformat": 4,
 "nbformat_minor": 1
}
