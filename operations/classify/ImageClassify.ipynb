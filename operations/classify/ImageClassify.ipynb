{
 "cells": [
  {
   "cell_type": "markdown",
   "metadata": {},
   "source": [
    "<h1><span style=\"color:red\">Generate Concepts from Images in Image Collection</span></h1>\n",
    "\n",
    "### This sample notebook will read survey images and add concepts found in the images to a new version of  SuAVE survey\n",
    "\n",
    "This notebook uses Clarifai API (clarifai.com). To process your images, please generate your own API key at the web site."
   ]
  },
  {
   "cell_type": "markdown",
   "metadata": {},
   "source": [
    "## 1. Retrieve survey parameters from the URL"
   ]
  },
  {
   "cell_type": "code",
   "execution_count": null,
   "metadata": {},
   "outputs": [],
   "source": [
    "%%javascript\n",
    "function getQueryStringValue (key)\n",
    "{  \n",
    "    return unescape(window.location.search.replace(new RegExp(\"^(?:.*[&\\\\?]\" + escape(key).replace(/[\\.\\+\\*]/g, \"\\\\$&\") + \"(?:\\\\=([^&]*))?)?.*$\", \"i\"), \"$1\"));\n",
    "}\n",
    "IPython.notebook.kernel.execute(\"survey_url='\".concat(getQueryStringValue(\"surveyurl\")).concat(\"'\"));\n",
    "IPython.notebook.kernel.execute(\"views='\".concat(getQueryStringValue(\"views\")).concat(\"'\"));\n",
    "IPython.notebook.kernel.execute(\"view='\".concat(getQueryStringValue(\"view\")).concat(\"'\"));\n",
    "IPython.notebook.kernel.execute(\"user='\".concat(getQueryStringValue(\"user\")).concat(\"'\"));\n",
    "IPython.notebook.kernel.execute(\"csv_file='\".concat(getQueryStringValue(\"csv\")).concat(\"'\")); \n",
    "IPython.notebook.kernel.execute(\"dzc_file='\".concat(getQueryStringValue(\"dzc\")).concat(\"'\")); \n",
    "IPython.notebook.kernel.execute(\"params='\".concat(getQueryStringValue(\"params\")).concat(\"'\")); \n",
    "IPython.notebook.kernel.execute(\"active_object='\".concat(getQueryStringValue(\"activeobject\")).concat(\"'\")); \n",
    "IPython.notebook.kernel.execute(\"full_notebook_url='\" + window.location + \"'\"); "
   ]
  },
  {
   "cell_type": "markdown",
   "metadata": {},
   "source": [
    "## 2. Read the survey file and find images"
   ]
  },
  {
   "cell_type": "code",
   "execution_count": null,
   "metadata": {},
   "outputs": [],
   "source": [
    "from __future__ import print_function\n",
    "from clarifai.rest import ClarifaiApp\n",
    "import pandas as pd\n",
    "import sys\n",
    "import csv\n",
    "import glob, os\n",
    "from ipywidgets import interact, interactive, fixed, interact_manual\n",
    "import ipywidgets as widgets\n",
    "from IPython.display import Markdown, display\n",
    "def printmd(string):\n",
    "    display(Markdown(string))\n",
    "\n",
    "absolutePath = \"../../temp_csvs/\"\n",
    "\n",
    "# read the SuAVE survey file\n",
    "file = open(absolutePath + csv_file, encoding=\"latin-1\")\n",
    "df = pd.read_csv(file)\n",
    "dflen = len(df.columns)\n",
    "\n",
    "localdzc = dzc_file.replace(\"https://maxim.ucsd.edu/dzgen/lib-staging-uploads\",\"/lib-nfs/dzgen\")\n",
    "full_images_location = localdzc.replace(\"/content.dzc\",\"/full_images/\")"
   ]
  },
  {
   "cell_type": "markdown",
   "metadata": {},
   "source": [
    "<b><h3><span style=\"color:red\">Important: Specify your Clarifai API Key below.<br>You can get it at clarifai.com</span></h3></b>\n"
   ]
  },
  {
   "cell_type": "code",
   "execution_count": null,
   "metadata": {},
   "outputs": [],
   "source": [
    "# api_key = \"38328d08a7ed42c4a55581f21c7e988c\" # sample\n",
    "\n",
    "api_key= \"b6097b44bdb542109c59c4522d2f6c60\"\n",
    "\n",
    "if api_key == '':\n",
    "    print('Cannot proceed without an API Key')\n",
    "else:\n",
    "    os.environ[\"CLARIFAI_API_KEY\"] = api_key\n",
    "    printmd(\"<b><span style='color:red'>Your CLARIFAI API Key is: </span></b>\" +os.environ[\"CLARIFAI_API_KEY\"])\n",
    "\n",
    "    app = ClarifaiApp()\n",
    "    model = app.public_models.general_model\n"
   ]
  },
  {
   "cell_type": "markdown",
   "metadata": {},
   "source": [
    "## 3. Extract the images"
   ]
  },
  {
   "cell_type": "code",
   "execution_count": null,
   "metadata": {},
   "outputs": [],
   "source": [
    "# One can point to a local directory with images or to a list of images at a URL\n",
    "\n",
    "URL_or_local = 'local'\n",
    "#URL_or_local = 'url'\n",
    "\n",
    "set_of_files = glob.glob(full_images_location+\"*.png\")\n",
    "\n",
    "printmd(\"<b><span style='color:red'>Count of items to process: </span></b>\" + str(len(set_of_files)))\n"
   ]
  },
  {
   "cell_type": "markdown",
   "metadata": {},
   "source": [
    "## 4. Run the classifier"
   ]
  },
  {
   "cell_type": "code",
   "execution_count": null,
   "metadata": {},
   "outputs": [],
   "source": [
    "all_data = []   # here, we accummulate the generated concepts for each image\n",
    "counter = 0\n",
    "\n",
    "for image in set_of_files:\n",
    "    counter += 1\n",
    "    if URL_or_local == 'url':\n",
    "        response = model.predict_by_url(url=image)\n",
    "    else:\n",
    "        response = model.predict_by_filename(filename=image)        \n",
    "    file_data = {}\n",
    "    file_data['#img'] = os.path.basename(image)[:-4]\n",
    "    concepts = response['outputs'][0]['data']['concepts']\n",
    "    for i in range(len(concepts)):  \n",
    "        file_data['concept_'+str(i+1)] = concepts[i]['name']\n",
    "        file_data['value_'+str(i+1)] = concepts[i]['value']\n",
    "    all_data.append(file_data)\n",
    "    print(str(counter),\" ::  Processed file: \", os.path.basename(image))\n",
    "# debugging:\n",
    "#     if counter == 3:\n",
    "#         break\n",
    "printmd(\"<b><span style='color:red'>\" + str(counter) + \" images processed</span></b>\")\n"
   ]
  },
  {
   "cell_type": "markdown",
   "metadata": {},
   "source": [
    "## 5. Add concepts to dataframe"
   ]
  },
  {
   "cell_type": "code",
   "execution_count": null,
   "metadata": {},
   "outputs": [],
   "source": [
    "# adding individual concept fields, as well as a single multiple-response column with all concepts, to a dataframe\n",
    "newdf = pd.DataFrame(all_data).fillna('')\n",
    "newdf = newdf[['#img', \n",
    "         'concept_1', 'value_1',\n",
    "         'concept_2', 'value_2',\n",
    "         'concept_3', 'value_3',\n",
    "         'concept_4', 'value_4',\n",
    "         'concept_5', 'value_5',\n",
    "         'concept_6', 'value_6',\n",
    "         'concept_7', 'value_7',\n",
    "         'concept_8', 'value_8',\n",
    "         'concept_9', 'value_9',\n",
    "         'concept_10', 'value_10',\n",
    "         'concept_11', 'value_11',\n",
    "         'concept_12', 'value_12',\n",
    "         'concept_13', 'value_13',\n",
    "         'concept_14', 'value_14',\n",
    "         'concept_15', 'value_15',\n",
    "         'concept_16', 'value_16',\n",
    "         'concept_17', 'value_17',\n",
    "         'concept_18', 'value_18',\n",
    "         'concept_19', 'value_19',\n",
    "         'concept_20', 'value_20']]\n",
    "multi =''\n",
    "for i in range(20):\n",
    "    if i == 19:\n",
    "        multi += newdf['concept_'+str(i+1)]\n",
    "    else:\n",
    "        multi += newdf['concept_'+str(i+1)] +'|'\n",
    "\n",
    "newdf['tags#multi'] = multi\n",
    "df = pd.merge(df, newdf, on='#img', how='outer')\n",
    "printmd(\"<b><span style='color:red'>Created new dataframe </span></b>\")\n",
    "df.head()"
   ]
  },
  {
   "cell_type": "markdown",
   "metadata": {},
   "source": [
    "## 6. Save the new version of CSV file, and give a name to new survey"
   ]
  },
  {
   "cell_type": "code",
   "execution_count": null,
   "metadata": {},
   "outputs": [],
   "source": [
    "new_file = absolutePath + csv_file[:-4]+'_v1.csv'\n",
    "printmd(\"<b><span style='color:red'>A new temporary file will be created at: </span></b>\")\n",
    "print(new_file)\n",
    "df.to_csv(new_file, index=None)"
   ]
  },
  {
   "cell_type": "code",
   "execution_count": null,
   "metadata": {},
   "outputs": [],
   "source": [
    "#Input survey name\n",
    "\n",
    "from IPython.display import display\n",
    "input_text = widgets.Text()\n",
    "output_text = widgets.Text()\n",
    "\n",
    "def bind_input_to_output(sender):\n",
    "    output_text.value = input_text.value\n",
    "\n",
    "# Tell the text input widget to call bind_input_to_output() on submit\n",
    "input_text.on_submit(bind_input_to_output)\n",
    "\n",
    "printmd(\"<b><span style='color:red'>Input survey name here, press Enter, and then run the next cell:</span></b>\")\n",
    "# Display input text box widget for input\n",
    "display(input_text)\n",
    "\n",
    "display(output_text)"
   ]
  },
  {
   "cell_type": "code",
   "execution_count": null,
   "metadata": {},
   "outputs": [],
   "source": [
    "#Print survey name\n",
    "survey_name = output_text.value\n",
    "printmd(\"<b><span style='color:red'>Survey Name is: </span></b>\" + survey_name)"
   ]
  },
  {
   "cell_type": "markdown",
   "metadata": {},
   "source": [
    "## 7. Generate the survey and create survey URL"
   ]
  },
  {
   "cell_type": "code",
   "execution_count": null,
   "metadata": {},
   "outputs": [],
   "source": [
    "#Parse url\n",
    "referer = survey_url.split(\"/main\")[0] +\"/\"\n",
    "upload_url = referer + \"uploadCSV\"\n",
    "new_survey_url_base = survey_url.split(user)[0]\n",
    "\n",
    "import requests\n",
    "import re\n",
    "csv = {\"file\": open(new_file, \"rb\")}\n",
    "upload_data = {\n",
    "    'name': input_text.value,\n",
    "    'dzc': dzc_file,\n",
    "    'user':user\n",
    "}\n",
    "headers = {\n",
    "    'User-Agent': 'suave user agent',\n",
    "    'referer': referer\n",
    "}\n",
    "\n",
    "r = requests.post(upload_url, files=csv, data=upload_data, headers=headers)\n",
    "\n",
    "if r.status_code == 200:\n",
    "    printmd(\"<b><span style='color:red'>New survey created successfully</span></b>\")\n",
    "    regex = re.compile('[^0-9a-zA-Z_]')\n",
    "    s_url = survey_name\n",
    "    s_url =  regex.sub('_', s_url)\n",
    "    url = new_survey_url_base + user + \"_\" + s_url + \".csv\" + \"&views=\" + views + \"&view=\" + view\n",
    "    print(url)\n",
    "    printmd(\"<b><span style='color:red'>Click the URL to open the new survey</span></b>\")\n",
    "else:\n",
    "    printmd(\"<b><span style='color:red'>Error creating new survey. Check if a survey with this name already exists.</span></b>\")\n",
    "    printmd(\"<b><span style='color:red'>Reason: </span></b>\"+ str(r.status_code) + \" \" + r.reason)\n",
    "\n",
    "\n",
    "    \n",
    "# new_survey_url_base = survey_url.split(user)[0]"
   ]
  },
  {
   "cell_type": "code",
   "execution_count": null,
   "metadata": {},
   "outputs": [],
   "source": []
  }
 ],
 "metadata": {
  "kernelspec": {
   "display_name": "Python 3",
   "language": "python",
   "name": "python3"
  },
  "language_info": {
   "codemirror_mode": {
    "name": "ipython",
    "version": 3
   },
   "file_extension": ".py",
   "mimetype": "text/x-python",
   "name": "python",
   "nbconvert_exporter": "python",
   "pygments_lexer": "ipython3",
   "version": "3.5.2"
  }
 },
 "nbformat": 4,
 "nbformat_minor": 2
}
