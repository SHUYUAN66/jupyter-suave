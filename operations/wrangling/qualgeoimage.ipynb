{
 "cells": [
  {
   "cell_type": "markdown",
   "metadata": {},
   "source": [
    "<h1><span style=\"color:red\">Data Preparation for SuAVE</span></h1>\n",
    "\n",
    "Several data enhancement operations are included in this notebook:\n",
    "* identifying the number of header rows, and ros and columns to keep or drop \n",
    "* assigning SuAVE qualifiers by introspecting the data (and letting you edit and approve the assignments)\n",
    "* adding geographic coordinates (in WGS84) based on a selected variable with placenames\n",
    "* adding geometric information based on a supplied GeoJSON file\n",
    "* generating images based on a selected text variable\n",
    "\n",
    "You will have an option to enhance an existing survey dataset passed from Suave, or load a local CSV file.  \n",
    "\n",
    "Additionally, launch respective notebooks if you need to convert between binary representation of multiple-response variables and SuAVE #multi variables, or prepare Likert scale variables for analysis\n",
    "\n",
    "<h1><span style=\"color:red\">Once you retrieved and explored the data file, please run only those cells that you need!</span></h1>\n",
    "\n",
    "Author: Enrique Sanchez"
   ]
  },
  {
   "cell_type": "markdown",
   "metadata": {},
   "source": [
    "## 1. Retrieve survey parameters from the URL"
   ]
  },
  {
   "cell_type": "code",
   "execution_count": null,
   "metadata": {},
   "outputs": [],
   "source": [
    "%%javascript\n",
    "function getQueryStringValue (key)\n",
    "{  \n",
    "    return unescape(window.location.search.replace(new RegExp(\"^(?:.*[&\\\\?]\" + escape(key).replace(/[\\.\\+\\*]/g, \"\\\\$&\") + \"(?:\\\\=([^&]*))?)?.*$\", \"i\"), \"$1\"));\n",
    "}\n",
    "IPython.notebook.kernel.execute(\"survey_url='\".concat(getQueryStringValue(\"surveyurl\")).concat(\"'\"));\n",
    "IPython.notebook.kernel.execute(\"views='\".concat(getQueryStringValue(\"views\")).concat(\"'\"));\n",
    "IPython.notebook.kernel.execute(\"view='\".concat(getQueryStringValue(\"view\")).concat(\"'\"));\n",
    "IPython.notebook.kernel.execute(\"user='\".concat(getQueryStringValue(\"user\")).concat(\"'\"));\n",
    "IPython.notebook.kernel.execute(\"csv_file='\".concat(getQueryStringValue(\"csv\")).concat(\"'\")); \n",
    "IPython.notebook.kernel.execute(\"dzc_file='\".concat(getQueryStringValue(\"dzc\")).concat(\"'\")); \n",
    "IPython.notebook.kernel.execute(\"params='\".concat(getQueryStringValue(\"params\")).concat(\"'\")); \n",
    "IPython.notebook.kernel.execute(\"active_object='\".concat(getQueryStringValue(\"activeobject\")).concat(\"'\")); \n",
    "IPython.notebook.kernel.execute(\"full_notebook_url='\" + window.location + \"'\"); "
   ]
  },
  {
   "cell_type": "markdown",
   "metadata": {},
   "source": [
    "## 2. Import libraries, and select how to process the data"
   ]
  },
  {
   "cell_type": "code",
   "execution_count": null,
   "metadata": {},
   "outputs": [],
   "source": [
    "from __future__ import print_function\n",
    "from ipywidgets import interact, interactive, fixed, interact_manual\n",
    "import ipywidgets as widgets\n",
    "import pandas as pd\n",
    "from IPython.display import Markdown, display\n",
    "\n",
    "# Importing additional libraries\n",
    "import panel as pn\n",
    "import requests\n",
    "import re\n",
    "\n",
    "# Loading extensions\n",
    "pn.extension()\n",
    "\n",
    "# Importing scripts\n",
    "import FileScript as fs\n",
    "import QualifierSuave as ql\n",
    "import StringImageSuave as si\n",
    "import GeoToolsSuave as gt\n",
    "\n",
    "def printmd(string):\n",
    "    display(Markdown(string))\n",
    "\n",
    "absolutePath = \"../../temp_csvs/\"\n"
   ]
  },
  {
   "cell_type": "markdown",
   "metadata": {},
   "source": [
    "<h2><span style=\"color:red\">To launch a notebook for processing #multi and Likert scale variables, make a selection and click the URL below</span></h2>\n",
    "Otherwise, continue to step 3\n"
   ]
  },
  {
   "cell_type": "code",
   "execution_count": null,
   "metadata": {},
   "outputs": [],
   "source": [
    "radio_group = pn.widgets.RadioBoxGroup(name='Select notebook', options=['Convert binary variables to #multi', \n",
    "                                                                        'Convert #multi to binary',\n",
    "                                                                        'Recode Likert scale variables'], \n",
    "                                       inline=False)\n",
    "radio_group"
   ]
  },
  {
   "cell_type": "code",
   "execution_count": null,
   "metadata": {},
   "outputs": [],
   "source": [
    "if radio_group.value == 'Convert binary variables to #multi':\n",
    "    nb_name = \"Binary_to_multi\"\n",
    "elif radio_group.value == 'Convert #multi to binary':\n",
    "    nb_name = \"Binary_to_multi\"\n",
    "elif radio_group.value == 'Recode Likert scale variables':\n",
    "    nb_name = \"Likert_recode\"\n",
    "    \n",
    "import webbrowser\n",
    "url_partitioned = full_notebook_url.partition('/operations')\n",
    "base_url = url_partitioned[0];\n",
    "url1 = ('{base_url}/operations/wrangling/{nb_name}.ipynb?'+'surveyurl=' + survey_url + '&' + 'views=' + views + '&' 'view=' + view + '&' + 'user='+user+'&'+'csv='+csv_file+'&'+'dzc='+dzc_file+\"&\"+'activeobject='+active_object).format(base_url=base_url, nb_name=nb_name)\n",
    "\n",
    "printmd(\"<b><span style='color:red'>Click the URL to open the selected notebook:</span></b>\")\n",
    "print(url1)\n",
    "\n",
    "# webbrowser.open(url1)\n"
   ]
  },
  {
   "cell_type": "markdown",
   "metadata": {},
   "source": [
    "<bold><hr></bold>\n",
    "<h2><span style=\"color:red\">3. Execute one block of cells, under 3a, or 3b, to:</span></h2>\n",
    "<h3>\n",
    "<span style=\"color:red\">\n",
    "<ul>\n",
    "    <li>3a: Load survey file from SuAVE</li>\n",
    "    <li>3b: Import a local CSV file</li>\n",
    "</ul>    \n",
    "</span>\n",
    "</h3>\n",
    "<h2><span style=\"color:red\">3a: Load survey file from SuAVE</span></h2>\n"
   ]
  },
  {
   "cell_type": "code",
   "execution_count": null,
   "metadata": {},
   "outputs": [],
   "source": [
    "fname = absolutePath + csv_file\n",
    "printmd(\"<b><span style='color:red'>Now continue to step 4</span></b>\")\n",
    "\n",
    "# fs.view_data(absolutePath + csv_file)"
   ]
  },
  {
   "cell_type": "markdown",
   "metadata": {},
   "source": [
    "<h2><span style=\"color:red\">3b: Import a local CSV file</span></h2>\n"
   ]
  },
  {
   "cell_type": "code",
   "execution_count": null,
   "metadata": {},
   "outputs": [],
   "source": [
    "data = pn.widgets.FileInput()\n",
    "data"
   ]
  },
  {
   "cell_type": "code",
   "execution_count": null,
   "metadata": {
    "scrolled": false
   },
   "outputs": [],
   "source": [
    "fname = absolutePath + data.filename\n",
    "data.save(fname)\n",
    "printmd(\"<b><span style='color:red'>Now continue to step 4</span></b>\")\n"
   ]
  },
  {
   "cell_type": "markdown",
   "metadata": {},
   "source": [
    "## 4. Explore the data and define the dataframe to work with"
   ]
  },
  {
   "cell_type": "code",
   "execution_count": null,
   "metadata": {},
   "outputs": [],
   "source": [
    "fs.view_data(fname)"
   ]
  },
  {
   "cell_type": "markdown",
   "metadata": {},
   "source": [
    "## 5. Generate & Edit Qualifiers"
   ]
  },
  {
   "cell_type": "code",
   "execution_count": null,
   "metadata": {
    "scrolled": true
   },
   "outputs": [],
   "source": [
    "ql.qualifier_editor()"
   ]
  },
  {
   "cell_type": "code",
   "execution_count": null,
   "metadata": {},
   "outputs": [],
   "source": [
    "# Local updated data frame\n",
    "df = ql.updated_df"
   ]
  },
  {
   "cell_type": "markdown",
   "metadata": {},
   "source": [
    "## 6. Geocoder (Optional)\n",
    "Select a placename variable and generate Latitude and Longitude columns"
   ]
  },
  {
   "cell_type": "code",
   "execution_count": null,
   "metadata": {},
   "outputs": [],
   "source": [
    "gt.geocoder(ql.stored_text)"
   ]
  },
  {
   "cell_type": "code",
   "execution_count": null,
   "metadata": {},
   "outputs": [],
   "source": [
    "# Local updated data frame\n",
    "df = ql.updated_df"
   ]
  },
  {
   "cell_type": "markdown",
   "metadata": {},
   "source": [
    "## 7. GeoJSON to Geometry\n",
    "Generate a 'geometry' column based on an external GeoJSON file. One of feature properties in the GeoJSON file should have feature names, to match feature names in the survey file."
   ]
  },
  {
   "cell_type": "code",
   "execution_count": null,
   "metadata": {},
   "outputs": [],
   "source": [
    "file = pn.widgets.FileInput()\n",
    "file"
   ]
  },
  {
   "cell_type": "code",
   "execution_count": null,
   "metadata": {},
   "outputs": [],
   "source": [
    "gt.json_to_geometry(file.value, ql.stored_text)"
   ]
  },
  {
   "cell_type": "code",
   "execution_count": null,
   "metadata": {},
   "outputs": [],
   "source": [
    "# Local updated data frame\n",
    "df = ql.updated_df"
   ]
  },
  {
   "cell_type": "markdown",
   "metadata": {},
   "source": [
    "## 8. Generate images based on text values\n",
    "Creates a set of images based on a selected variable for use with SuAVE"
   ]
  },
  {
   "cell_type": "code",
   "execution_count": null,
   "metadata": {},
   "outputs": [],
   "source": [
    "si.image_display(df, ql.stored_text)"
   ]
  },
  {
   "cell_type": "code",
   "execution_count": null,
   "metadata": {},
   "outputs": [],
   "source": [
    "# Local updated data frame\n",
    "df = ql.updated_df"
   ]
  },
  {
   "cell_type": "markdown",
   "metadata": {},
   "source": [
    "## 9. Final Data\n",
    "Explore the dataframe before generating a new survey from it"
   ]
  },
  {
   "cell_type": "code",
   "execution_count": null,
   "metadata": {},
   "outputs": [],
   "source": [
    "df = ql.updated_df\n",
    "ql.slider(df)"
   ]
  },
  {
   "cell_type": "markdown",
   "metadata": {},
   "source": [
    "## 10. Generate a new survey and open it in SuAVE"
   ]
  },
  {
   "cell_type": "code",
   "execution_count": null,
   "metadata": {},
   "outputs": [],
   "source": [
    "def printmd(string):\n",
    "    display(Markdown(string))\n",
    "\n",
    "#Input survey name\n",
    "\n",
    "input_csv = widgets.Text()\n",
    "output_csv = widgets.Text()\n",
    "\n",
    "def bind_input_to_output1(sender):\n",
    "    output_csv.value = input_csv.value\n",
    "\n",
    "# Tell the text input widget to call bind_input_to_output() on submit\n",
    "input_csv.on_submit(bind_input_to_output1)\n",
    "\n",
    "printmd(\"<b><span style='color:red'>Input temporary csv name here, \" + \n",
    "        \"press Enter, and then run the next cell:</span></b>\")\n",
    "# Display input text box widget for input\n",
    "display(input_csv)\n",
    "display(output_csv)"
   ]
  },
  {
   "cell_type": "code",
   "execution_count": null,
   "metadata": {},
   "outputs": [],
   "source": [
    "absolutePath = \"../../temp_csvs/\"\n",
    "csv_file = input_csv.value.replace(' ', '_')\n",
    "\n",
    "# new filename\n",
    "new_file = absolutePath + csv_file + '_v1.csv'\n",
    "printmd(\"<b><span style='color:red'>A new temporary file will be created at: </span></b>\")\n",
    "print(new_file)\n",
    "df.to_csv(new_file, index=None)"
   ]
  },
  {
   "cell_type": "code",
   "execution_count": null,
   "metadata": {},
   "outputs": [],
   "source": [
    "#Input survey name\n",
    "\n",
    "input_text = widgets.Text()\n",
    "output_text = widgets.Text()\n",
    "\n",
    "def bind_input_to_output2(sender):\n",
    "    output_text.value = input_text.value\n",
    "\n",
    "# Tell the text input widget to call bind_input_to_output() on submit\n",
    "input_text.on_submit(bind_input_to_output2)\n",
    "\n",
    "printmd(\"<b><span style='color:red'>Input survey name here, \" +\n",
    "        \"press Enter, and then run the next cell:</span></b>\")\n",
    "# Display input text box widget for input\n",
    "display(input_text)\n",
    "display(output_text)"
   ]
  },
  {
   "cell_type": "code",
   "execution_count": null,
   "metadata": {},
   "outputs": [],
   "source": [
    "#Print survey name\n",
    "survey_name = output_text.value\n",
    "printmd(\"<b><span style='color:red'>Survey Name is: </span></b>\" + survey_name)"
   ]
  },
  {
   "cell_type": "code",
   "execution_count": null,
   "metadata": {},
   "outputs": [],
   "source": [
    "#Input SuAVE username\n",
    "\n",
    "input_user = widgets.Text()\n",
    "output_user = widgets.Text()\n",
    "\n",
    "def bind_input_to_output3(sender):\n",
    "    output_user.value = input_user.value\n",
    "\n",
    "# Tell the text input widget to call bind_input_to_output() on submit\n",
    "input_user.on_submit(bind_input_to_output3)\n",
    "\n",
    "printmd(\"<b><span style='color:red'>Input SuAVE username here, \" + \n",
    "        \"press Enter, and then run the next cell:</span></b>\")\n",
    "# Display input text box widget for input\n",
    "display(input_user)\n",
    "display(output_user)"
   ]
  },
  {
   "cell_type": "code",
   "execution_count": null,
   "metadata": {},
   "outputs": [],
   "source": [
    "# need to un-hardcode\n",
    "user = input_user.value\n",
    "survey_url = 'http://suave-dev.sdsc.edu/main/file=' + user + '_' + survey_name + '.csv'\n",
    "referer = survey_url.split(\"/main\")[0] +\"/\"\n",
    "upload_url = referer + \"uploadCSV\"\n",
    "new_survey_url_base = survey_url.split(user)[0]\n",
    "views = ''\n",
    "view = ''\n",
    "dzc_file = ''\n",
    "\n",
    "csv = {\"file\": open(new_file, \"rb\")}\n",
    "upload_data = {\n",
    "    'name': input_text.value,\n",
    "    'dzc': dzc_file,\n",
    "    'user':user\n",
    "}\n",
    "headers = {\n",
    "    'User-Agent': 'suave user agent',\n",
    "    'referer': referer\n",
    "}\n",
    "\n",
    "r = requests.post(upload_url, files=csv, data=upload_data, headers=headers)\n",
    "\n",
    "if r.status_code == 200:\n",
    "    printmd(\"<b><span style='color:red'>New survey created successfully</span></b>\")\n",
    "    regex = re.compile('[^0-9a-zA-Z_]')\n",
    "    s_url = survey_name\n",
    "    s_url =  regex.sub('_', s_url)\n",
    "\n",
    "    url = new_survey_url_base + user + \"_\" + s_url + \".csv\" + \"&views=\" + views + \"&view=\" + view\n",
    "    adjusted_url = url[:-13]\n",
    "    print(adjusted_url)\n",
    "    printmd(\"<b><span style='color:red'>Click the URL to open the new survey</span></b>\")\n",
    "else:\n",
    "    printmd(\"<b><span style='color:red'>Error creating new survey. Check if a survey with this name already exists.</span></b>\")\n",
    "    printmd(\"<b><span style='color:red'>Reason: </span></b>\"+ str(r.status_code) + \" \" + r.reason)"
   ]
  },
  {
   "cell_type": "markdown",
   "metadata": {},
   "source": [
    "## Explore with HoloViz"
   ]
  },
  {
   "cell_type": "code",
   "execution_count": null,
   "metadata": {},
   "outputs": [],
   "source": [
    "%%javascript\n",
    "function getQueryStringValue (key)\n",
    "{  \n",
    "    return unescape(window.location.search.replace(new RegExp(\"^(?:.*[&\\\\?]\" + escape(key).replace(/[\\.\\+\\*]/g, \"\\\\$&\") + \"(?:\\\\=([^&]*))?)?.*$\", \"i\"), \"$1\"));\n",
    "}\n",
    "IPython.notebook.kernel.execute(\"full_notebook_url='\" + window.location + \"'\"); "
   ]
  },
  {
   "cell_type": "code",
   "execution_count": null,
   "metadata": {},
   "outputs": [],
   "source": [
    "holoviz_notebook = full_notebook_url.split('operations')[0]+'operations/holoviz/holoviz.ipynb?'\n",
    "survey = 'surveyurl=' + adjusted_url + '&user=' + user + '&csv=' + new_file.split('/')[-1]\n",
    "holoviz_url = holoviz_notebook+survey\n",
    "\n",
    "printmd(\"<b><span style='color:red'>Click the URL to open the HoloViz notebook:</span></b>\")\n",
    "print(holoviz_url)"
   ]
  }
 ],
 "metadata": {
  "kernelspec": {
   "display_name": "Python 3",
   "language": "python",
   "name": "python3"
  },
  "language_info": {
   "codemirror_mode": {
    "name": "ipython",
    "version": 3
   },
   "file_extension": ".py",
   "mimetype": "text/x-python",
   "name": "python",
   "nbconvert_exporter": "python",
   "pygments_lexer": "ipython3",
   "version": "3.6.3"
  }
 },
 "nbformat": 4,
 "nbformat_minor": 2
}
