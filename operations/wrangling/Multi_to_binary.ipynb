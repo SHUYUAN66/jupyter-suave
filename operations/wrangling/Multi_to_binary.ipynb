{
 "cells": [
  {
   "cell_type": "markdown",
   "metadata": {},
   "source": [
    "# Converting a #multi variable into a series of binary variables\n",
    "\n",
    "The binary variables will be named as values in the original #multi variables.\n",
    "The values of the generated binary variableswill be Nan (for not selected) and \"Selected\" or similar.\n"
   ]
  },
  {
   "cell_type": "code",
   "execution_count": null,
   "metadata": {
    "ExecuteTime": {
     "end_time": "2016-09-06T17:23:36.621365",
     "start_time": "2016-09-06T17:23:36.609827"
    },
    "run_control": {
     "frozen": false,
     "read_only": false
    }
   },
   "outputs": [],
   "source": [
    "import numpy as np\n",
    "import pandas as pd\n",
    "import panel as pn\n",
    "\n",
    "pn.extension()"
   ]
  },
  {
   "cell_type": "code",
   "execution_count": null,
   "metadata": {
    "ExecuteTime": {
     "end_time": "2016-09-06T17:24:40.104127",
     "start_time": "2016-09-06T17:24:39.859984"
    },
    "run_control": {
     "frozen": false,
     "read_only": false
    }
   },
   "outputs": [],
   "source": [
    "# reading a data file. Replace with survey file retrieved from SuAVE \n",
    "\n",
    "df = pd.read_csv('test_2multi.csv')"
   ]
  },
  {
   "cell_type": "code",
   "execution_count": null,
   "metadata": {},
   "outputs": [],
   "source": [
    "df.head()"
   ]
  },
  {
   "cell_type": "code",
   "execution_count": null,
   "metadata": {
    "ExecuteTime": {
     "end_time": "2016-09-06T17:24:44.344634",
     "start_time": "2016-09-06T17:24:44.322968"
    },
    "run_control": {
     "frozen": false,
     "read_only": false
    }
   },
   "outputs": [],
   "source": [
    "# this function will create a set of binary variables given one #multi variable\n",
    "\n",
    "def binarize(df, column, true_value=1, false_value=0, separator='|'):\n",
    "    \"\"\"\n",
    "    return dataframe with additional new columns that binarize the values of this column\n",
    "    parameters:\n",
    "        * df: original dataframe\n",
    "        * column: name of column that has multiple values per cell\n",
    "        * separator: how the values are separated in the original column, e.g. by commas\n",
    "        * true_value: what value dummy variables will take if present, e.g. 1 or 'Yes'\n",
    "        * false_value: what value dummy variables will take if absent, e.g. 0 or 'No' or np.nan\n",
    "    returns merged dataframe with new columns\n",
    "    \"\"\"\n",
    "    dummies = df[column].str.get_dummies(sep=separator)\n",
    "    for col in dummies.columns:\n",
    "        dummies[col] = dummies[col].map({1: true_value, 0: false_value})\n",
    "        print(\"Creating binary variable : '\"+ col + \"' from multiple-response variable : '\" + column +\"'\")\n",
    "\n",
    "    merged = pd.merge(df, dummies, left_index=True, right_index=True, how='inner')\n",
    "    assert len(merged) == len(df) == len(dummies)\n",
    "    return merged\n",
    "\n",
    "# this function calls binarize for all defined #multi variables\n",
    "\n",
    "def binarize_list(df, multi_columns, true_value=1, false_value=0, separator='|'):\n",
    "    for col in multi_columns:\n",
    "        df = binarize(df, col, true_value=true_value, false_value=false_value, separator=separator)\n",
    "    return df\n",
    "\n",
    "# this function deletes the #multi variables after processing\n",
    "\n",
    "def delete_multies(df, list_columns):\n",
    "    for col in list_columns:\n",
    "        df = df.drop(col, axis=1)\n",
    "    return df\n"
   ]
  },
  {
   "cell_type": "code",
   "execution_count": null,
   "metadata": {},
   "outputs": [],
   "source": [
    "# Here we specify the input: a list of #multi variables to process\n",
    "# Eventually, they will be selected via some widget\n",
    "\n",
    "multi_cols = ['Role#multi', 'Participated in apps#multi','Resources_created#multi' ]\n"
   ]
  },
  {
   "cell_type": "code",
   "execution_count": null,
   "metadata": {},
   "outputs": [],
   "source": [
    "# Multi column selector\n",
    "left_text = pn.Row(\"####Select #multi Variables to Process\", margin=(0,0,-15,210))\n",
    "multi_options = list(df.columns[['#multi' in col for col in df.columns]])\n",
    "multi_select = pn.widgets.CrossSelector(height = 130, options=multi_options)\n",
    "\n",
    "multi_cols = []\n",
    "def save_multi(click):\n",
    "    global multi_cols\n",
    "    multi_cols = multi_select.value\n",
    "    \n",
    "# Process button\n",
    "process_button = pn.widgets.Button(name='End Selection', width=200, margin=(10,0,10,240))\n",
    "process_button.param.watch(save_multi, ['clicks'])\n",
    "\n",
    "# Display widgets\n",
    "full_display = pn.Column(left_text, multi_select, process_button, css_classes=['widget-box'])\n",
    "full_display"
   ]
  },
  {
   "cell_type": "code",
   "execution_count": null,
   "metadata": {
    "ExecuteTime": {
     "end_time": "2016-09-06T17:25:11.580714",
     "start_time": "2016-09-06T17:25:11.456253"
    },
    "run_control": {
     "frozen": false,
     "read_only": false
    }
   },
   "outputs": [],
   "source": [
    "# run to create a new df with added binary variables\n",
    "\n",
    "df_new = binarize_list(df, \n",
    "         multi_cols,\n",
    "         true_value='Selected',\n",
    "         false_value=np.nan,\n",
    "         separator='|')\n"
   ]
  },
  {
   "cell_type": "code",
   "execution_count": null,
   "metadata": {
    "run_control": {
     "frozen": false,
     "read_only": false
    }
   },
   "outputs": [],
   "source": [
    "# delete the original #multi vars if needed\n",
    "df_new = delete_multies(df_new,multi_cols)"
   ]
  },
  {
   "cell_type": "code",
   "execution_count": null,
   "metadata": {},
   "outputs": [],
   "source": [
    "df_new.head()"
   ]
  },
  {
   "cell_type": "code",
   "execution_count": null,
   "metadata": {},
   "outputs": [],
   "source": [
    "def slider(df):\n",
    "    \"\"\"\n",
    "    slider creates an interactive display of a\n",
    "    data frame.\n",
    "    \n",
    "    :param df: data frame\n",
    "    :returns: interactive dataframe\n",
    "    \"\"\"\n",
    "    \n",
    "    # Row Selector widget\n",
    "    row_selection = pn.widgets.IntSlider(name='Navigate Rows', width=350, \n",
    "                                         margin=(0,50,-15,0), end=len(df)-1)\n",
    "\n",
    "    # Column Selector widget\n",
    "    col_selection = pn.widgets.IntSlider(name='Navigate Columns', width=350, \n",
    "                                         margin=(0,0,5,0), end=len(df.columns))\n",
    "    \n",
    "    @pn.depends(row_selection.param.value, col_selection.param.value)\n",
    "    def navigate_data(row=0, col=0):\n",
    "        return df.iloc[row:row+5, col:col+10]\n",
    "    \n",
    "    sliders = pn.Row(row_selection, col_selection, margin=(0,0,0,10))\n",
    "    full_widget = pn.Column(sliders, navigate_data)\n",
    "    return full_widget\n",
    "\n",
    "slider(df_new)"
   ]
  },
  {
   "cell_type": "code",
   "execution_count": null,
   "metadata": {},
   "outputs": [],
   "source": [
    "# save as new file (eventually, upload to SuAVE)\n",
    "df_new.to_csv('test_2binary.csv', index=None)"
   ]
  }
 ],
 "metadata": {
  "kernelspec": {
   "display_name": "Python 3",
   "language": "python",
   "name": "python3"
  },
  "language_info": {
   "codemirror_mode": {
    "name": "ipython",
    "version": 3
   },
   "file_extension": ".py",
   "mimetype": "text/x-python",
   "name": "python",
   "nbconvert_exporter": "python",
   "pygments_lexer": "ipython3",
   "version": "3.6.3"
  },
  "nav_menu": {},
  "toc": {
   "navigate_menu": true,
   "number_sections": true,
   "sideBar": true,
   "threshold": 6,
   "toc_cell": false,
   "toc_section_display": "block",
   "toc_window_display": false
  }
 },
 "nbformat": 4,
 "nbformat_minor": 1
}
