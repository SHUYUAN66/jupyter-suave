{
 "cells": [
  {
   "cell_type": "markdown",
   "metadata": {},
   "source": [
    "<h1><span style=\"color:red\">Converting a #multi variable into a series of binary variables</span></h1>\n",
    "\n",
    "Using this notbook, you can select a multiple-response variable and convert it into a series of binary variables, with values \"Selected\" and empty, possibly dropping the initial binary variables. You will have an option to process a survey file received from the current SuAVE application, or import a local CSV file. Then the notebook will let you create a new SuAVE survey with the updated survey file. \n",
    "\n",
    "The binary variables will be named as values in the original #multi variables.\n"
   ]
  },
  {
   "cell_type": "markdown",
   "metadata": {},
   "source": [
    "## 1. Retrieve survey parameters from the URL"
   ]
  },
  {
   "cell_type": "code",
   "execution_count": null,
   "metadata": {},
   "outputs": [],
   "source": [
    "%%javascript\n",
    "function getQueryStringValue (key)\n",
    "{  \n",
    "    return unescape(window.location.search.replace(new RegExp(\"^(?:.*[&\\\\?]\" + escape(key).replace(/[\\.\\+\\*]/g, \"\\\\$&\") + \"(?:\\\\=([^&]*))?)?.*$\", \"i\"), \"$1\"));\n",
    "}\n",
    "IPython.notebook.kernel.execute(\"survey_url='\".concat(getQueryStringValue(\"surveyurl\")).concat(\"'\"));\n",
    "IPython.notebook.kernel.execute(\"views='\".concat(getQueryStringValue(\"views\")).concat(\"'\"));\n",
    "IPython.notebook.kernel.execute(\"view='\".concat(getQueryStringValue(\"view\")).concat(\"'\"));\n",
    "IPython.notebook.kernel.execute(\"user='\".concat(getQueryStringValue(\"user\")).concat(\"'\"));\n",
    "IPython.notebook.kernel.execute(\"csv_file='\".concat(getQueryStringValue(\"csv\")).concat(\"'\")); \n",
    "IPython.notebook.kernel.execute(\"dzc_file='\".concat(getQueryStringValue(\"dzc\")).concat(\"'\")); \n",
    "IPython.notebook.kernel.execute(\"params='\".concat(getQueryStringValue(\"params\")).concat(\"'\")); \n",
    "IPython.notebook.kernel.execute(\"active_object='\".concat(getQueryStringValue(\"activeobject\")).concat(\"'\")); \n",
    "IPython.notebook.kernel.execute(\"full_notebook_url='\" + window.location + \"'\"); "
   ]
  },
  {
   "cell_type": "markdown",
   "metadata": {},
   "source": [
    "## 2. Import libraries"
   ]
  },
  {
   "cell_type": "code",
   "execution_count": null,
   "metadata": {
    "ExecuteTime": {
     "end_time": "2016-09-06T17:23:36.621365",
     "start_time": "2016-09-06T17:23:36.609827"
    },
    "run_control": {
     "frozen": false,
     "read_only": false
    }
   },
   "outputs": [],
   "source": [
    "from __future__ import print_function\n",
    "import ipywidgets as widgets\n",
    "import pandas as pd\n",
    "from IPython.display import Markdown, display\n",
    "import pandas as pd\n",
    "import panel as pn\n",
    "import numpy as np\n",
    "\n",
    "pn.extension()\n",
    "\n",
    "def printmd(string):\n",
    "    display(Markdown(string))\n",
    "\n",
    "absolutePath = \"../../temp_csvs/\"\n",
    "url_partitioned = full_notebook_url.partition('/operations')\n",
    "base_url = url_partitioned[0];"
   ]
  },
  {
   "cell_type": "code",
   "execution_count": null,
   "metadata": {
    "ExecuteTime": {
     "end_time": "2016-09-06T17:24:40.104127",
     "start_time": "2016-09-06T17:24:39.859984"
    },
    "run_control": {
     "frozen": false,
     "read_only": false
    }
   },
   "outputs": [],
   "source": [
    "def slider(df):\n",
    "    \"\"\"\n",
    "    slider creates an interactive display of a\n",
    "    data frame.\n",
    "    \n",
    "    :param df: data frame\n",
    "    :returns: interactive dataframe\n",
    "    \"\"\"\n",
    "    \n",
    "    # Row Selector widget\n",
    "    row_selection = pn.widgets.IntSlider(name='Navigate Rows', width=350, \n",
    "                                         margin=(0,50,-15,0), end=len(df)-1)\n",
    "\n",
    "    # Column Selector widget\n",
    "    col_selection = pn.widgets.IntSlider(name='Navigate Columns', width=350, \n",
    "                                         margin=(0,0,5,0), end=len(df.columns))\n",
    "    \n",
    "    @pn.depends(row_selection.param.value, col_selection.param.value)\n",
    "    def navigate_data(row=0, col=0):\n",
    "        return df.iloc[row:row+5, col:col+10]\n",
    "    \n",
    "    sliders = pn.Row(row_selection, col_selection, margin=(0,0,0,10))\n",
    "    full_widget = pn.Column(sliders, navigate_data)\n",
    "    return full_widget\n",
    "\n",
    "# reading a data file. Replace with survey file retrieved from SuAVE \n",
    "\n",
    "def extract_data(path):\n",
    "    \"\"\"\n",
    "    extract_data reads files from various formats\n",
    "    \n",
    "    :param link: string representing path to file\n",
    "    :returns: data frame of file\n",
    "    \"\"\"\n",
    "\n",
    "    # Reading file at path\n",
    "    if path.endswith(('.txt', 'tsv')):\n",
    "        try:\n",
    "            data = pd.read_csv(path, sep='\\t', encoding=\"latin-1\")\n",
    "        except UnicodeDecodeError:\n",
    "            data = pd.read_csv(path, sep='\\t', encoding=\"ISO-8859-1\")\n",
    "    elif path.endswith('.csv'):\n",
    "        try:\n",
    "            data = pd.read_csv(path, encoding=\"latin-1\")\n",
    "        except UnicodeDecodeError:\n",
    "            data = pd.read_csv(path, encoding=\"ISO-8859-1\")\n",
    "    else:\n",
    "        return None\n",
    "    \n",
    "    return data\n"
   ]
  },
  {
   "cell_type": "code",
   "execution_count": null,
   "metadata": {
    "ExecuteTime": {
     "end_time": "2016-09-06T17:24:44.344634",
     "start_time": "2016-09-06T17:24:44.322968"
    },
    "run_control": {
     "frozen": false,
     "read_only": false
    }
   },
   "outputs": [],
   "source": [
    "# this function will create a set of binary variables given one #multi variable\n",
    "\n",
    "def binarize(df, column, true_value=1, false_value=0, separator='|'):\n",
    "    \"\"\"\n",
    "    return dataframe with additional new columns that binarize the values of this column\n",
    "    parameters:\n",
    "        * df: original dataframe\n",
    "        * column: name of column that has multiple values per cell\n",
    "        * separator: how the values are separated in the original column, e.g. by commas\n",
    "        * true_value: what value dummy variables will take if present, e.g. 1 or 'Yes'\n",
    "        * false_value: what value dummy variables will take if absent, e.g. 0 or 'No' or np.nan\n",
    "    returns merged dataframe with new columns\n",
    "    \"\"\"\n",
    "    dummies = df[column].str.get_dummies(sep=separator)\n",
    "    for col in dummies.columns:\n",
    "        dummies[col] = dummies[col].map({1: true_value, 0: false_value})\n",
    "        print(\"Creating binary variable : '\"+ col + \"' from multiple-response variable : '\" + column +\"'\")\n",
    "\n",
    "    merged = pd.merge(df, dummies, left_index=True, right_index=True, how='inner')\n",
    "    assert len(merged) == len(df) == len(dummies)\n",
    "    return merged\n",
    "\n",
    "# this function calls binarize for all defined #multi variables\n",
    "\n",
    "def binarize_list(df, multi_columns, true_value=1, false_value=0, separator='|'):\n",
    "    for col in multi_columns:\n",
    "        df = binarize(df, col, true_value=true_value, false_value=false_value, separator=separator)\n",
    "    return df\n",
    "\n",
    "# this function deletes the #multi variables after processing\n",
    "\n",
    "def delete_multies(df, list_columns):\n",
    "    for col in list_columns:\n",
    "        df = df.drop(col, axis=1)\n",
    "    return df\n"
   ]
  },
  {
   "cell_type": "markdown",
   "metadata": {},
   "source": [
    "## 3. Select a survey file from SuAVE or import a local CSV file"
   ]
  },
  {
   "cell_type": "code",
   "execution_count": null,
   "metadata": {},
   "outputs": [],
   "source": [
    "data_select = pn.widgets.RadioBoxGroup(name='Select notebook', options=['Load survey file from SuAVE', \n",
    "                                                                        'Import a local CSV file'], \n",
    "                                       inline=False)\n",
    "data_select"
   ]
  },
  {
   "cell_type": "code",
   "execution_count": null,
   "metadata": {},
   "outputs": [],
   "source": [
    "data_input = pn.widgets.FileInput()\n",
    "    \n",
    "def check_selection():\n",
    "    if data_select.value == 'Load survey file from SuAVE':\n",
    "        global fname\n",
    "        fname = absolutePath + csv_file\n",
    "        printmd(\"<b><span style='color:red'>SuAVE survey will be loaded. Continue to step 4.</span></b>\")\n",
    "\n",
    "    else:\n",
    "        message = pn.pane.HTML(\"<b><span style='color:red'>Upload data and continue to step 4.</span></b>\")\n",
    "        return pn.Column(message, data_input)\n",
    "    \n",
    "check_selection()"
   ]
  },
  {
   "cell_type": "markdown",
   "metadata": {},
   "source": [
    "## 4. Visualize the data and select #multi variables to process"
   ]
  },
  {
   "cell_type": "code",
   "execution_count": null,
   "metadata": {},
   "outputs": [],
   "source": [
    "if not pd.isnull(data_input.filename):\n",
    "    fname = absolutePath + data_input.filename\n",
    "    data_input.save(fname)\n",
    "\n",
    "# df = extract_data(fname).fillna('')\n",
    "df = extract_data(fname)\n",
    "\n",
    "slider(df)"
   ]
  },
  {
   "cell_type": "code",
   "execution_count": null,
   "metadata": {},
   "outputs": [],
   "source": [
    "# Multi column selector\n",
    "left_text = pn.Row(\"####Select #multi Variables to Process\", margin=(0,0,-15,210))\n",
    "multi_options = list(df.columns[['#multi' in col for col in df.columns]])\n",
    "multi_select = pn.widgets.CrossSelector(height = 130, options=multi_options)\n",
    "\n",
    "multi_cols = []\n",
    "def save_multi(click):\n",
    "    global multi_cols\n",
    "    multi_cols = multi_select.value\n",
    "    \n",
    "# Process button\n",
    "process_button = pn.widgets.Button(name='End Selection', button_type='primary', width=200, margin=(10,0,10,240))\n",
    "process_button.param.watch(save_multi, ['clicks'])\n",
    "\n",
    "# Display widgets\n",
    "full_display = pn.Column(left_text, multi_select, process_button, css_classes=['widget-box'])\n",
    "full_display"
   ]
  },
  {
   "cell_type": "markdown",
   "metadata": {},
   "source": [
    "## 5. Generate binary variables from #multi, and optionally remove the #multi"
   ]
  },
  {
   "cell_type": "code",
   "execution_count": null,
   "metadata": {
    "ExecuteTime": {
     "end_time": "2016-09-06T17:25:11.580714",
     "start_time": "2016-09-06T17:25:11.456253"
    },
    "run_control": {
     "frozen": false,
     "read_only": false
    }
   },
   "outputs": [],
   "source": [
    "# run to create a new df with added binary variables\n",
    "\n",
    "df_new = binarize_list(df, \n",
    "         multi_cols,\n",
    "         true_value='Selected',\n",
    "         false_value=np.nan,\n",
    "         separator='|')"
   ]
  },
  {
   "cell_type": "code",
   "execution_count": null,
   "metadata": {
    "run_control": {
     "frozen": false,
     "read_only": false
    }
   },
   "outputs": [],
   "source": [
    "# delete the original #multi vars if needed\n",
    "df_new = delete_multies(df_new,multi_cols)\n",
    "df = df_new.copy().fillna('')"
   ]
  },
  {
   "cell_type": "code",
   "execution_count": null,
   "metadata": {},
   "outputs": [],
   "source": [
    "slider(df)"
   ]
  },
  {
   "cell_type": "code",
   "execution_count": null,
   "metadata": {},
   "outputs": [],
   "source": [
    "# save as new file (eventually, upload to SuAVE)\n",
    "df.to_csv('test_2binary.csv', index=None)"
   ]
  },
  {
   "cell_type": "markdown",
   "metadata": {},
   "source": [
    "## 6. Generate a new survey and open it in SuAVE"
   ]
  },
  {
   "cell_type": "code",
   "execution_count": null,
   "metadata": {},
   "outputs": [],
   "source": [
    "# new filename\n",
    "\n",
    "if data_select.value == 'Import a local CSV file':\n",
    "    csv_file = data_input.filename\n",
    "\n",
    "new_file = absolutePath + csv_file[:-4]+'_v1.csv'\n",
    "printmd(\"<b><span style='color:red'>A new temporary file will be created at: </span></b>\")\n",
    "print(new_file)\n",
    "df.to_csv(new_file, index=None)"
   ]
  },
  {
   "cell_type": "code",
   "execution_count": null,
   "metadata": {},
   "outputs": [],
   "source": [
    "#Input survey name\n",
    "\n",
    "from IPython.display import display\n",
    "input_text = widgets.Text()\n",
    "output_text = widgets.Text()\n",
    "\n",
    "def bind_input_to_output(sender):\n",
    "    output_text.value = input_text.value\n",
    "\n",
    "# Tell the text input widget to call bind_input_to_output() on submit\n",
    "input_text.on_submit(bind_input_to_output)\n",
    "\n",
    "printmd(\"<b><span style='color:red'>Input survey name here, press Enter, and then run the next cell:</span></b>\")\n",
    "# Display input text box widget for input\n",
    "display(input_text)\n",
    "\n",
    "display(output_text)"
   ]
  },
  {
   "cell_type": "code",
   "execution_count": null,
   "metadata": {},
   "outputs": [],
   "source": [
    "#Print survey name\n",
    "survey_name = output_text.value\n",
    "printmd(\"<b><span style='color:red'>Survey Name is: </span></b>\" + survey_name)"
   ]
  },
  {
   "cell_type": "code",
   "execution_count": null,
   "metadata": {},
   "outputs": [],
   "source": [
    "referer = survey_url.split(\"/main\")[0] +\"/\"\n",
    "upload_url = referer + \"uploadCSV\"\n",
    "new_survey_url_base = survey_url.split(user)[0]\n",
    "\n",
    "import requests\n",
    "import re\n",
    "csv = {\"file\": open(new_file, \"rb\")}\n",
    "\n",
    "if data_select.value == 'Import a local CSV file':\n",
    "    dzc_file = ''\n",
    "    views = '1110001'\n",
    "    view='grid'\n",
    "\n",
    "upload_data = {\n",
    "    'name': input_text.value,\n",
    "    'dzc': dzc_file,\n",
    "    'user':user\n",
    "}\n",
    "headers = {\n",
    "    'User-Agent': 'suave user agent',\n",
    "    'referer': referer\n",
    "}\n",
    "\n",
    "r = requests.post(upload_url, files=csv, data=upload_data, headers=headers)\n",
    "\n",
    "if r.status_code == 200:\n",
    "    printmd(\"<b><span style='color:red'>New survey created successfully</span></b>\")\n",
    "    regex = re.compile('[^0-9a-zA-Z_]')\n",
    "    s_url = survey_name\n",
    "    s_url =  regex.sub('_', s_url)\n",
    "\n",
    "    url = new_survey_url_base + user + \"_\" + s_url + \".csv\" + \"&views=\" + views + \"&view=\" + view\n",
    "    print(url)\n",
    "    printmd(\"<b><span style='color:red'>Click the URL to open the new survey</span></b>\")\n",
    "else:\n",
    "    printmd(\"<b><span style='color:red'>Error creating new survey. Check if a survey with this name already exists.</span></b>\")\n",
    "    printmd(\"<b><span style='color:red'>Reason: </span></b>\"+ str(r.status_code) + \" \" + r.reason)"
   ]
  },
  {
   "cell_type": "code",
   "execution_count": null,
   "metadata": {},
   "outputs": [],
   "source": []
  }
 ],
 "metadata": {
  "kernelspec": {
   "display_name": "Python 3",
   "language": "python",
   "name": "python3"
  },
  "language_info": {
   "codemirror_mode": {
    "name": "ipython",
    "version": 3
   },
   "file_extension": ".py",
   "mimetype": "text/x-python",
   "name": "python",
   "nbconvert_exporter": "python",
   "pygments_lexer": "ipython3",
   "version": "3.6.3"
  },
  "nav_menu": {},
  "toc": {
   "navigate_menu": true,
   "number_sections": true,
   "sideBar": true,
   "threshold": 6,
   "toc_cell": false,
   "toc_section_display": "block",
   "toc_window_display": false
  }
 },
 "nbformat": 4,
 "nbformat_minor": 1
}
