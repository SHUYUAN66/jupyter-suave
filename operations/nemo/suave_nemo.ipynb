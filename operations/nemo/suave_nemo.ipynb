{
 "cells": [
  {
   "cell_type": "markdown",
   "metadata": {},
   "source": [
    "<h1><span style=\"color:red\">NEMO Annotation for SuAVE</span></h1>\n",
    "\n",
    "This notebook uses the NEMO (Named Entities Made Obvious) service developed at Microsoft Research (author: Dr. Silviu Cuzerzan, see https://doi.org/10.1145/2633211.2634360) to generate a set of named entities for user's text\n"
   ]
  },
  {
   "cell_type": "markdown",
   "metadata": {},
   "source": [
    "## 1. Retrieve survey parameters from the URL"
   ]
  },
  {
   "cell_type": "code",
   "execution_count": null,
   "metadata": {},
   "outputs": [],
   "source": [
    "%%javascript\n",
    "function getQueryStringValue (key)\n",
    "{  \n",
    "    return unescape(window.location.search.replace(new RegExp(\"^(?:.*[&\\\\?]\" + escape(key).replace(/[\\.\\+\\*]/g, \"\\\\$&\") + \"(?:\\\\=([^&]*))?)?.*$\", \"i\"), \"$1\"));\n",
    "}\n",
    "IPython.notebook.kernel.execute(\"survey_url='\".concat(getQueryStringValue(\"surveyurl\")).concat(\"'\"));\n",
    "IPython.notebook.kernel.execute(\"views='\".concat(getQueryStringValue(\"views\")).concat(\"'\"));\n",
    "IPython.notebook.kernel.execute(\"view='\".concat(getQueryStringValue(\"view\")).concat(\"'\"));\n",
    "IPython.notebook.kernel.execute(\"user='\".concat(getQueryStringValue(\"user\")).concat(\"'\"));\n",
    "IPython.notebook.kernel.execute(\"csv_file='\".concat(getQueryStringValue(\"csv\")).concat(\"'\")); \n",
    "IPython.notebook.kernel.execute(\"dzc_file='\".concat(getQueryStringValue(\"dzc\")).concat(\"'\")); \n",
    "IPython.notebook.kernel.execute(\"params='\".concat(getQueryStringValue(\"params\")).concat(\"'\")); \n",
    "IPython.notebook.kernel.execute(\"active_object='\".concat(getQueryStringValue(\"activeobject\")).concat(\"'\")); \n",
    "IPython.notebook.kernel.execute(\"full_notebook_url='\" + window.location + \"'\"); "
   ]
  },
  {
   "cell_type": "markdown",
   "metadata": {},
   "source": [
    "## 2. Setting up the environment, importing libraries, defining functions"
   ]
  },
  {
   "cell_type": "code",
   "execution_count": null,
   "metadata": {
    "scrolled": true
   },
   "outputs": [],
   "source": [
    "# common imports\n",
    "from __future__ import print_function\n",
    "from ipywidgets import interact, interactive, fixed, interact_manual\n",
    "import ipywidgets as widgets\n",
    "from IPython.display import Markdown, display\n",
    "\n",
    "import pandas as pd\n",
    "pd.set_option('display.max_colwidth', 0)\n",
    "    \n",
    "import numpy as np\n",
    "import panel as pn\n",
    "\n",
    "pn.extension()\n",
    "def printmd(string):\n",
    "    display(Markdown(string))\n",
    "\n",
    "absolutePath = \"../../temp_csvs/\"\n",
    "\n",
    "# local imports\n",
    "import sys\n",
    "sys.path.insert(1, '../../helpers')\n",
    "import panel_libs as panellibs\n",
    "import suave_integration as suaveint\n",
    "\n",
    "\n",
    "# specific imports\n",
    "import requests\n",
    "import re\n",
    "import nemofunc as nemo\n"
   ]
  },
  {
   "cell_type": "code",
   "execution_count": null,
   "metadata": {},
   "outputs": [],
   "source": [
    "%%capture\n",
    "from tqdm import tqdm_notebook as tqdm\n",
    "tqdm().pandas()"
   ]
  },
  {
   "cell_type": "markdown",
   "metadata": {},
   "source": [
    "## 3. Select a survey file from SuAVE or import a local CSV file"
   ]
  },
  {
   "cell_type": "code",
   "execution_count": null,
   "metadata": {},
   "outputs": [],
   "source": [
    "data_select = pn.widgets.RadioBoxGroup(name='Select notebook', options=['Load survey file from SuAVE', \n",
    "                                                                        'Import a local CSV file'], \n",
    "                                       inline=False)\n",
    "data_select"
   ]
  },
  {
   "cell_type": "code",
   "execution_count": null,
   "metadata": {},
   "outputs": [],
   "source": [
    "data_input = pn.widgets.FileInput()\n",
    "    \n",
    "def check_selection():\n",
    "    if data_select.value == 'Load survey file from SuAVE':\n",
    "        global fname\n",
    "        fname = absolutePath + csv_file\n",
    "        printmd(\"<b><span style='color:red'>SuAVE survey will be loaded. Continue to step 4.</span></b>\")\n",
    "\n",
    "    else:\n",
    "        message = pn.pane.HTML(\"<b><span style='color:red'>Upload data and continue to step 4.</span></b>\")\n",
    "        return pn.Column(message, data_input)\n",
    "    \n",
    "check_selection()"
   ]
  },
  {
   "cell_type": "markdown",
   "metadata": {},
   "source": [
    "## 4. Visualize the data and select a text variable to parse"
   ]
  },
  {
   "cell_type": "code",
   "execution_count": null,
   "metadata": {},
   "outputs": [],
   "source": [
    "if not pd.isnull(data_input.filename):\n",
    "    fname = absolutePath + data_input.filename\n",
    "    data_input.save(fname)\n",
    "\n",
    "df = panellibs.extract_data(fname)\n",
    "panellibs.slider(df)\n"
   ]
  },
  {
   "cell_type": "markdown",
   "metadata": {},
   "source": [
    "## 5. Generate pre-defined #multi variables for entity types extracted by NEMO"
   ]
  },
  {
   "cell_type": "code",
   "execution_count": null,
   "metadata": {},
   "outputs": [],
   "source": [
    "varcols = df.columns.tolist()\n",
    "# remove any variable names are unlikely to contain parsable text \n",
    "varcols = [x for x in varcols if '#number' not in x and '#date' not in x and '#img' not in x and '#href' not in x and '#link' not in x]\n",
    "\n",
    "# Left panel\n",
    "left_text = pn.Row(\"####Select Variables for NEMO Processing\", margin=(0,0,-15,270))\n",
    "binary_selector = pn.widgets.CrossSelector(options=varcols, width=630)\n",
    "left_panel = pn.Column(left_text, binary_selector, css_classes=['widget-box'], margin=(0,30,0,0))\n",
    "\n",
    "remap_text = pn.pane.Markdown('####      Make selections and run the next cell ', width=650)\n",
    "\n",
    "# Display widgets\n",
    "widgets = pn.Row(left_panel)\n",
    "full_display = pn.Column(widgets,remap_text)\n",
    "full_display"
   ]
  },
  {
   "cell_type": "code",
   "execution_count": null,
   "metadata": {},
   "outputs": [],
   "source": [
    "\n",
    "# Replace NA with empty in each row\n",
    "# Convert row to string\n",
    "# Join row with spaces\n",
    "concatted = df[binary_selector.value].fillna('').astype(str).dropna().apply(lambda row: ' '.join(row), axis=1)\n"
   ]
  },
  {
   "cell_type": "markdown",
   "metadata": {},
   "source": [
    "## 6. Run NEMO"
   ]
  },
  {
   "cell_type": "code",
   "execution_count": null,
   "metadata": {},
   "outputs": [],
   "source": [
    "def extract_nemo(payload):\n",
    "#     print(payload)\n",
    "    df, respjson = nemo.nemo_annotate(payload)\n",
    "    return df\n",
    "extracted_df = concatted.progress_apply(extract_nemo)"
   ]
  },
  {
   "cell_type": "markdown",
   "metadata": {},
   "source": [
    "## 7. Add generated tags to dataframe and explore"
   ]
  },
  {
   "cell_type": "code",
   "execution_count": null,
   "metadata": {},
   "outputs": [],
   "source": [
    "extracted_multi_df=pd.DataFrame()\n",
    "import numpy as np\n",
    "nan = np.nan\n",
    "rows=[]\n",
    "for i in concatted.index:\n",
    "    print (\"###### index == \" + str(i))\n",
    "    rows.append(nemo.create_nemo_dict(extracted_df[i]))\n",
    "\n",
    "extracted_multi_df = pd.DataFrame(rows)\n"
   ]
  },
  {
   "cell_type": "code",
   "execution_count": null,
   "metadata": {},
   "outputs": [],
   "source": [
    "# explore the generated dataframe\n",
    "panellibs.slider(extracted_multi_df)"
   ]
  },
  {
   "cell_type": "markdown",
   "metadata": {},
   "source": [
    "## 8. Reoder the columns, and decide which columns to keep"
   ]
  },
  {
   "cell_type": "code",
   "execution_count": null,
   "metadata": {},
   "outputs": [],
   "source": [
    "# re-order the columns in the df\n",
    "columnTitles = nemo.column_order()\n",
    "extracted_multi_df = extracted_multi_df.reindex(columns=columnTitles)"
   ]
  },
  {
   "cell_type": "code",
   "execution_count": null,
   "metadata": {},
   "outputs": [],
   "source": [
    "tags_to_keep = pn.widgets.RadioBoxGroup(name='Tags to keep:', options=['Pre-modeled categories: Location, Geopolitical, Organiation, Person', \n",
    "                                                                        'All internal NEMO output'], \n",
    "                                       inline=False)\n",
    "tags_to_keep"
   ]
  },
  {
   "cell_type": "markdown",
   "metadata": {},
   "source": [
    "#### Columns to keep:\n",
    "\n",
    "        \"e_G-y\": \"Entity: Geopolitical#multi#sortquan\",\n",
    "        \"e_G-y_WP\": \"Entity: Geopolitical URL#hidden\",\n",
    "        \"e_O-y\": \"Entity: Organization#multi#sortquan\",\n",
    "        \"e_O-y_WP\": \"Entity: Organization URL#hidden\",\n",
    "        \"e_L-y\": \"Entity: Location#multi#sortquan\",\n",
    "        \"e_L-y_WP\": \"Entity: Location URL#hidden\",\n",
    "        \"e_P-y\": \"Entity: Personal#multi#sortquan\",\n",
    "        \"e_P-y_WP\": \"Entity: Personal URL#hidden\",\n",
    "\n",
    "        \"e_C-y\": \"Entity: Abstract#multi#sortquan\",\n",
    "        \"e_C-y_WP\" : \"Entity: Abstract URL#hidden\",\n"
   ]
  },
  {
   "cell_type": "code",
   "execution_count": null,
   "metadata": {},
   "outputs": [],
   "source": [
    "cols_to_keep = [\n",
    "     \"e_G-y\",\n",
    "    \"e_G-y_WP\",\n",
    "    \"e_O-y\",\n",
    "    \"e_O-y_WP\",\n",
    "    \"e_L-y\",\n",
    "    \"e_L-y_WP\",\n",
    "    \"e_P-y\",\n",
    "    \"e_P-y_WP\",\n",
    "\n",
    "    \"e_C-y\",\n",
    "    \"e_C-y_WP\"   \n",
    "]\n",
    "\n",
    "if tags_to_keep.value == 'Pre-modeled categories: Location, Geopolitical, Organiation, Person':\n",
    "    df.drop(df.columns.difference(['a','b']), 1, inplace=True)\n",
    "\n"
   ]
  },
  {
   "cell_type": "markdown",
   "metadata": {},
   "source": [
    "## 9. Rename the columns"
   ]
  },
  {
   "cell_type": "code",
   "execution_count": null,
   "metadata": {},
   "outputs": [],
   "source": [
    "# this is a complete list of columns to rename\n",
    "columns_dict = nemo.columns_dict()\n"
   ]
  },
  {
   "cell_type": "code",
   "execution_count": null,
   "metadata": {},
   "outputs": [],
   "source": [
    "#rename the columns\n",
    "extracted_multi_df_ren = extracted_multi_df.rename(columns=dict(columns_dict))"
   ]
  },
  {
   "cell_type": "code",
   "execution_count": null,
   "metadata": {},
   "outputs": [],
   "source": [
    "df_new = pd.concat([df, extracted_multi_df_ren], axis=1)\n",
    "print('Dimensions:\\n --- The original df: ' +str(df.shape) +'\\n --- The NEMO-generated df: '+ str(extracted_multi_df.shape)+'\\n --- The concatenated df:' +str(df_new.shape))\n"
   ]
  },
  {
   "cell_type": "markdown",
   "metadata": {},
   "source": [
    "### Only keep columns with more than N records as facets (for new fields, or for all fields), make others #hidden"
   ]
  },
  {
   "cell_type": "code",
   "execution_count": null,
   "metadata": {},
   "outputs": [],
   "source": [
    "# set min number of values in a column\n",
    "mincount = 20\n",
    "\n",
    "# whether to drop columns from the original dataframe as well\n",
    "drop_from_original=True\n",
    "\n",
    "if drop_from_original:\n",
    "    start_column = 0\n",
    "else:\n",
    "    start_column = len(df.columns)\n",
    "\n",
    "for column in df_new.columns:\n",
    "    if (df_new.columns.get_loc(column) > start_column) & (df_new[column].count() < mincount):\n",
    "#         print(\"Dropping: \" + column +\" at location \" + str(df_new.columns.get_loc(column)) + \" with \" +str(df_new[column].count()) +\" values.\")\n",
    "        if column.find(\"#multi\") > 0:\n",
    "            new_col = column.split('#')[0]+\"#multi#hidden\"\n",
    "        elif column.find(\"#link\") > 0:\n",
    "            new_col = column\n",
    "        else:\n",
    "            new_col = column.split('#')[0]+\"#hidden\"\n",
    "\n",
    "        df_new = df_new.rename(columns={column:new_col})\n",
    "        print(column + \" renamed to \"+ new_col)\n",
    "#         df_new.drop([column],axis=1)\n",
    "            \n"
   ]
  },
  {
   "cell_type": "markdown",
   "metadata": {},
   "source": [
    "## 10. Visualize the generated dataframe"
   ]
  },
  {
   "cell_type": "code",
   "execution_count": null,
   "metadata": {
    "scrolled": false
   },
   "outputs": [],
   "source": [
    "panellibs.slider(df_new)"
   ]
  },
  {
   "cell_type": "code",
   "execution_count": null,
   "metadata": {},
   "outputs": [],
   "source": [
    "# if needed, save to a local file. OPTIONAL\n",
    "df_to_save = df_new.copy().fillna('')\n",
    "\n",
    "df_to_save.to_csv('ecrr_after_nemo.csv', index=None)\n"
   ]
  },
  {
   "cell_type": "markdown",
   "metadata": {},
   "source": [
    "## 11. Save the new version of CSV file, and give a name to new survey"
   ]
  },
  {
   "cell_type": "code",
   "execution_count": null,
   "metadata": {},
   "outputs": [],
   "source": [
    "# new filename\n",
    "\n",
    "if data_select.value == 'Import a local CSV file':\n",
    "    csv_file = data_input.filename\n",
    "\n",
    "new_file = absolutePath + csv_file[:-4]+'_v1.csv'\n",
    "printmd(\"<b><span style='color:red'>A new temporary file will be created at: </span></b>\")\n",
    "print(new_file)\n",
    "df_to_save.to_csv(new_file, index=None)"
   ]
  },
  {
   "cell_type": "code",
   "execution_count": null,
   "metadata": {},
   "outputs": [],
   "source": [
    "#Input survey name\n",
    "import ipywidgets as widgets\n",
    "from IPython.display import display\n",
    "\n",
    "input_text = widgets.Text()\n",
    "output_text = widgets.Text()\n",
    "\n",
    "def bind_input_to_output(sender):\n",
    "    output_text.value = input_text.value\n",
    "\n",
    "# Tell the text input widget to call bind_input_to_output() on submit\n",
    "input_text.on_submit(bind_input_to_output)\n",
    "\n",
    "printmd(\"<b><span style='color:red'>Input survey name here, press Enter, and then run the next cell:</span></b>\")\n",
    "# Display input text box widget for input\n",
    "display(input_text)\n",
    "\n",
    "display(output_text)"
   ]
  },
  {
   "cell_type": "code",
   "execution_count": null,
   "metadata": {},
   "outputs": [],
   "source": [
    "#Print survey name\n",
    "survey_name = output_text.value\n",
    "printmd(\"<b><span style='color:red'>Survey Name is: </span></b>\" + survey_name)"
   ]
  },
  {
   "cell_type": "code",
   "execution_count": null,
   "metadata": {},
   "outputs": [],
   "source": [
    "url = 'http://suave2.sdsc.edu/getSurveyDzc?user='+user+'&file='+csv_file[len(user)+1:-4]\n",
    "url"
   ]
  },
  {
   "cell_type": "code",
   "execution_count": null,
   "metadata": {},
   "outputs": [],
   "source": [
    "# read the current survey file, if this is suave2\n",
    "# example: http://suave2.sdsc.edu/getSurveyDzc?user=zaslavsk&file=Alianza_2_5_21\n",
    "\n",
    "import requests\n",
    "import json\n",
    "r=requests.get(url).json()\n",
    "views = str(r['views'])\n",
    "views"
   ]
  },
  {
   "cell_type": "markdown",
   "metadata": {},
   "source": [
    "## 12. Generate the survey and create survey URL"
   ]
  },
  {
   "cell_type": "code",
   "execution_count": null,
   "metadata": {},
   "outputs": [],
   "source": [
    "\n",
    "referer = survey_url.split(\"/main\")[0] +\"/\"\n",
    "upload_url = referer + \"uploadCSV\"\n",
    "new_survey_url_base = survey_url.split(user)[0]\n",
    "\n",
    "import requests\n",
    "import re\n",
    "csv = {\"file\": open(new_file, \"rb\")}\n",
    "\n",
    "if data_select.value == 'Import a local CSV file':\n",
    "    dzc_file = ''\n",
    "    views = '1110001'\n",
    "    view='grid'\n",
    "\n",
    "upload_data = {\n",
    "    'name': input_text.value,\n",
    "    'dzc': dzc_file,\n",
    "    'user':user\n",
    "}\n",
    "headers = {\n",
    "    'User-Agent': 'suave user agent',\n",
    "    'referer': referer\n",
    "}\n",
    "\n",
    "r = requests.post(upload_url, files=csv, data=upload_data, headers=headers)\n",
    "\n",
    "if r.status_code == 200:\n",
    "    printmd(\"<b><span style='color:red'>New survey created successfully</span></b>\")\n",
    "    regex = re.compile('[^0-9a-zA-Z_]')\n",
    "    s_url = survey_name\n",
    "    s_url =  regex.sub('_', s_url)\n",
    "\n",
    "    url = new_survey_url_base + user + \"_\" + s_url + \".csv\" + \"&views=\" + views + \"&view=\" + view\n",
    "    print(url)\n",
    "    printmd(\"<b><span style='color:red'>Click the URL to open the new survey</span></b>\")\n",
    "else:\n",
    "    printmd(\"<b><span style='color:red'>Error creating new survey. Check if a survey with this name already exists.</span></b>\")\n",
    "    printmd(\"<b><span style='color:red'>Reason: </span></b>\"+ str(r.status_code) + \" \" + r.reason)"
   ]
  },
  {
   "cell_type": "code",
   "execution_count": null,
   "metadata": {},
   "outputs": [],
   "source": []
  },
  {
   "cell_type": "code",
   "execution_count": null,
   "metadata": {},
   "outputs": [],
   "source": []
  }
 ],
 "metadata": {
  "kernelspec": {
   "display_name": "Python 3",
   "language": "python",
   "name": "python3"
  },
  "language_info": {
   "codemirror_mode": {
    "name": "ipython",
    "version": 3
   },
   "file_extension": ".py",
   "mimetype": "text/x-python",
   "name": "python",
   "nbconvert_exporter": "python",
   "pygments_lexer": "ipython3",
   "version": "3.7.3"
  }
 },
 "nbformat": 4,
 "nbformat_minor": 2
}
