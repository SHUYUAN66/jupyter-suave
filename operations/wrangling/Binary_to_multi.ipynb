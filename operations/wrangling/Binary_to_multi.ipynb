{
 "cells": [
  {
   "cell_type": "markdown",
   "metadata": {},
   "source": [
    "<h1><span style=\"color:red\">Converting a series of binary variables to a single #multi variable</span></h1>\n",
    "\n",
    "Using this notbook, you can define groups of binary variables and orgaize each group into a multiple-response variables, possibly dropping the initial binary variables. You will have an option to pricess a survey file received from the current SuAVE application, or import a local CSV file. Then the notebook will let you create a new SuAVE survey with the updated survey file. \n",
    "\n"
   ]
  },
  {
   "cell_type": "code",
   "execution_count": null,
   "metadata": {
    "ExecuteTime": {
     "end_time": "2016-09-06T17:02:37.986507",
     "start_time": "2016-09-06T17:02:37.525080"
    },
    "run_control": {
     "frozen": false,
     "read_only": false
    }
   },
   "outputs": [],
   "source": [
    "import pandas as pd\n",
    "import panel as pn\n",
    "\n",
    "pn.extension()"
   ]
  },
  {
   "cell_type": "code",
   "execution_count": null,
   "metadata": {
    "ExecuteTime": {
     "end_time": "2016-09-06T17:05:17.902671",
     "start_time": "2016-09-06T17:05:17.642016"
    },
    "run_control": {
     "frozen": false,
     "read_only": false
    }
   },
   "outputs": [],
   "source": [
    "# reading a data file. Replace with survey file retrieved from SuAVE \n",
    "\n",
    "df = pd.read_csv('test.csv')\n",
    "df.head()"
   ]
  },
  {
   "cell_type": "code",
   "execution_count": null,
   "metadata": {
    "ExecuteTime": {
     "end_time": "2016-09-06T17:06:11.666603",
     "start_time": "2016-09-06T17:06:11.652467"
    },
    "run_control": {
     "frozen": false,
     "read_only": false
    }
   },
   "outputs": [],
   "source": [
    "# this function organizes all values in a row into a #multi variable\n",
    "# the options are: \n",
    "# a) the binary variables have a non-empty value that needs to be included; the other value (such as \"not selected\") is empty\n",
    "# b) the binary variables have specific non-empty conditions specified in condition_values\n",
    "\n",
    "def summarize_row(row, condition_values=[True], any_not_nan=False, separator='|'):\n",
    "    if any_not_nan:\n",
    "        matching_columns = [col_name for col_name, val in row.iteritems() if not pd.isnull(val)]\n",
    "    else:\n",
    "        matching_columns = [col_name for col_name, val in row.iteritems() if val in condition_values]\n",
    "    return separator.join(matching_columns)\n",
    "\n",
    "\n",
    "# this function calls summarize_row for a selected set of binary variables\n",
    "\n",
    "def unbinarize(df, columns, condition_values=[True], any_not_nan=False, separator='|'):\n",
    "    \"\"\"\n",
    "    for every row: concatenate values that match condition_value with [separator]\n",
    "    parameters:\n",
    "        * df: dataframe\n",
    "        * columns : the ones you want to unbinarize. \n",
    "        * condition_value: the value that these binary columns take when they are selected. e.g. True or 1\n",
    "        * separator: the separator you want to use in the resulting list column\n",
    "        * drop: remove columns before returning dataframe\n",
    "    returns new column (pandas series) and original dataframe, perhaps with columns removed\n",
    "    \"\"\"\n",
    "    return df[columns].apply(lambda row: summarize_row(row, condition_values, any_not_nan, separator), axis=1)\n",
    "\n",
    "# this function calls unbinarize for all defined mappings\n",
    "\n",
    "def unbinarize_mapping(df, map_columns, condition_values=[True], any_not_nan=False, separator='|'):\n",
    "#     print(map_columns)\n",
    "    for new_col, dummy_cols in map_columns.items():\n",
    "#         print(new_col + \", \" + str(dummy_cols) + \", \" + ' OR '.join(condition_values) + \", \" + separator)\n",
    "        df[new_col] = unbinarize(\n",
    "            df, dummy_cols, condition_values=condition_values, any_not_nan=any_not_nan, separator=separator\n",
    "        )\n",
    "    return df\n",
    "\n",
    "# this function deletes variables that have been integrated into #multi\n",
    "\n",
    "def delete_dummies(df, map_columns):\n",
    "    for new_col, dummy_cols in map_columns.items():\n",
    "        df = df.drop(dummy_cols, axis=1)\n",
    "    return df"
   ]
  },
  {
   "cell_type": "code",
   "execution_count": null,
   "metadata": {},
   "outputs": [],
   "source": [
    "# NOTE: Not needed as widgets in the next cell speed up this process.\n",
    "\n",
    "# here we specify the mappings\n",
    "# In the example cases, the three sets of binary variables will be combined into 3 #multi variables\n",
    "# The values of the #multi variables will be formed from column names of the binary vars\n",
    "\n",
    "# Eventually, this will be done via some widgets\n",
    "\n",
    "remappings = {\n",
    "    #New column name': ['Original', 'Column', 'List'],\n",
    "    'Role#multi': ['Faculty', 'Researcher', 'Developer', 'Administrator', 'Post-Doc', 'Other Role'],\n",
    "    'Participated in apps#multi': ['No participation in apps', 'Would participate in apps', 'As PI or Project Manager',\n",
    "                                     'As Developer', 'As grad or post-doc', 'As UI Designer','As Outreach Specialist',\n",
    "                                     'As Content Specialist', 'As User Support','On Advisory Board','Other Participation'],\n",
    "    'Resources_created#multi': ['Computational tools', 'Data collections', 'Data analysis tools', 'Collaboration tools',\n",
    "                                'Workflows', 'Interfaces to scientific instruments','Interfaces to sensor data',\n",
    "                                'Educational tools','Frameworks or platforms','Citizen science resources','Other applications']\n",
    "\n",
    "}\n",
    "\n",
    "# This specifies which values of binary variables to include in #multi, per each mapping\n",
    "# for case b) described above\n",
    "\n",
    "condition_values = ['Selected', 'Selected','Have created' ]"
   ]
  },
  {
   "cell_type": "code",
   "execution_count": null,
   "metadata": {},
   "outputs": [],
   "source": [
    "# Left panel\n",
    "left_text = pn.Row(\"####Select Binary Variables\", margin=(0,0,-15,270))\n",
    "binary_selector = pn.widgets.CrossSelector(options=list(df.columns), width=630)\n",
    "left_panel = pn.Column(left_text, binary_selector, css_classes=['widget-box'], margin=(0,30,0,0))\n",
    "\n",
    "# Right panel\n",
    "condition_text = pn.Row(\"####Select Condition\", margin=(0,0,-20, 40))\n",
    "condition = pn.widgets.Select(width=200, margin=(11,10,10,10))\n",
    "condition_select = pn.Column(condition_text, condition, margin=(5,0,0,0))\n",
    "\n",
    "multi_text = pn.Row(\"####Specify #multi Name\", margin=(0,0,-20, 25))\n",
    "multi_name = pn.widgets.TextInput(placeholder='Enter Name', width=200, margin=(11,10,10,10))\n",
    "name_input = pn.Column(multi_text, multi_name, margin=(-5,0,0,0))\n",
    "right_panel = pn.Column(condition_select, name_input, css_classes=['widget-box'])\n",
    "\n",
    "apply_button = pn.widgets.Toggle(name='Create Mapping', margin=(30,0,10,10), width=200)\n",
    "\n",
    "# Remappings display\n",
    "remap_text = pn.pane.Markdown('#### Remappings ', width=950)\n",
    "\n",
    "remappings = {}\n",
    "condition_values = []\n",
    "@pn.depends(binary_selector.param.value, apply_button.param.value)\n",
    "def remap(b_var, apply):\n",
    "    apply_button.value = False\n",
    "    \n",
    "    if (b_var != []):\n",
    "        \n",
    "        # Determines possible conditions based on variables selected\n",
    "        possible_conditions = pd.unique(df[b_var].values.ravel('K'))\n",
    "        condition.options = ['Not Empty'] + [value for value in possible_conditions if not pd.isnull(value)]\n",
    "        if (multi_name.value != '') and apply:\n",
    "            \n",
    "            # Creates mapping\n",
    "            new_multi = multi_name.value + '#multi'\n",
    "            remappings[new_multi] = b_var\n",
    "            condition_values.append(condition.value)\n",
    "            \n",
    "            # Refreshes selected binary values and name\n",
    "            binary_selector.value = []\n",
    "            multi_name.value = ''\n",
    "            \n",
    "            # Updates remapping display\n",
    "            new_mapping = '- **'+ str(new_multi) + '**' +' &rarr; '+ str(remappings[new_multi])\n",
    "            remap_text.object = remap_text.object + '\\n' + new_mapping\n",
    "            \n",
    "            return remap_text\n",
    "        \n",
    "    return remap_text\n",
    "\n",
    "# Display widgets\n",
    "widgets = pn.Row(left_panel, pn.Column(right_panel, apply_button))\n",
    "full_display = pn.Column(widgets, remap)\n",
    "full_display"
   ]
  },
  {
   "cell_type": "code",
   "execution_count": null,
   "metadata": {
    "scrolled": true
   },
   "outputs": [],
   "source": [
    "# an example call for case b) described above.\n",
    "# remappings and condition_values are the two key inputs\n",
    "\n",
    "df_new = df.pipe(\n",
    "    unbinarize_mapping, remappings,condition_values=condition_values, separator='|'\\\n",
    ").pipe(delete_dummies, remappings)\n",
    "\n",
    "df_new.head(30)"
   ]
  },
  {
   "cell_type": "code",
   "execution_count": null,
   "metadata": {
    "ExecuteTime": {
     "end_time": "2016-09-06T17:06:12.317358",
     "start_time": "2016-09-06T17:06:12.154825"
    },
    "run_control": {
     "frozen": false,
     "read_only": false
    }
   },
   "outputs": [],
   "source": [
    "# just checking the new #multi variables\n",
    "df_new[['Role#multi', 'Participated in apps#multi','Resources created#multi' ]]"
   ]
  },
  {
   "cell_type": "code",
   "execution_count": null,
   "metadata": {},
   "outputs": [],
   "source": [
    "# checking the input binary variables for one of the remappings\n",
    "df[remappings['Resources created#multi']]"
   ]
  },
  {
   "cell_type": "code",
   "execution_count": null,
   "metadata": {
    "scrolled": true
   },
   "outputs": [],
   "source": [
    "# an example call for case a) described above.\n",
    "# remappings and any_not_nan=True are the two key inputs\n",
    "\n",
    "df_new2 = df.pipe(\n",
    "    unbinarize_mapping, remappings, any_not_nan=True, separator='|'\\\n",
    ").pipe(delete_dummies, remappings)\n",
    "\n",
    "df_new2.head(30)"
   ]
  },
  {
   "cell_type": "code",
   "execution_count": null,
   "metadata": {},
   "outputs": [],
   "source": [
    "def slider(df):\n",
    "    \"\"\"\n",
    "    slider creates an interactive display of a\n",
    "    data frame.\n",
    "    \n",
    "    :param df: data frame\n",
    "    :returns: interactive dataframe\n",
    "    \"\"\"\n",
    "    \n",
    "    # Row Selector widget\n",
    "    row_selection = pn.widgets.IntSlider(name='Navigate Rows', width=350, \n",
    "                                         margin=(0,50,-15,0), end=len(df)-1)\n",
    "\n",
    "    # Column Selector widget\n",
    "    col_selection = pn.widgets.IntSlider(name='Navigate Columns', width=350, \n",
    "                                         margin=(0,0,5,0), end=len(df.columns))\n",
    "    \n",
    "    @pn.depends(row_selection.param.value, col_selection.param.value)\n",
    "    def navigate_data(row=0, col=0):\n",
    "        return df.iloc[row:row+5, col:col+10]\n",
    "    \n",
    "    sliders = pn.Row(row_selection, col_selection, margin=(0,0,0,10))\n",
    "    full_widget = pn.Column(sliders, navigate_data)\n",
    "    return full_widget\n",
    "\n",
    "slider(df_new2)"
   ]
  },
  {
   "cell_type": "code",
   "execution_count": null,
   "metadata": {
    "ExecuteTime": {
     "end_time": "2016-09-06T17:23:04.406276",
     "start_time": "2016-09-06T17:23:04.180149"
    },
    "run_control": {
     "frozen": false,
     "read_only": false
    }
   },
   "outputs": [],
   "source": [
    "# now write this back, or upload to SuAVE.\n",
    "\n",
    "# df_new.to_csv('test_multi.csv', index=None)\n",
    "#  or\n",
    "df_new2.to_csv('test_2multi.csv', index=None)"
   ]
  },
  {
   "cell_type": "code",
   "execution_count": null,
   "metadata": {},
   "outputs": [],
   "source": []
  }
 ],
 "metadata": {
  "kernelspec": {
   "display_name": "Python 3",
   "language": "python",
   "name": "python3"
  },
  "language_info": {
   "codemirror_mode": {
    "name": "ipython",
    "version": 3
   },
   "file_extension": ".py",
   "mimetype": "text/x-python",
   "name": "python",
   "nbconvert_exporter": "python",
   "pygments_lexer": "ipython3",
   "version": "3.6.3"
  },
  "nav_menu": {},
  "toc": {
   "navigate_menu": true,
   "number_sections": true,
   "sideBar": true,
   "threshold": 6,
   "toc_cell": false,
   "toc_section_display": "block",
   "toc_window_display": false
  }
 },
 "nbformat": 4,
 "nbformat_minor": 1
}
